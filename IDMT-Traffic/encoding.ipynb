{
 "cells": [
  {
   "cell_type": "code",
   "execution_count": 5,
   "metadata": {},
   "outputs": [],
   "source": [
    "import pandas as pd\n",
    "import numpy as np\n",
    "from sklearn.model_selection import train_test_split\n",
    "from sklearn.preprocessing import StandardScaler, LabelEncoder\n",
    "from sklearn.metrics import confusion_matrix, precision_score, recall_score, f1_score, accuracy_score, mean_absolute_error, mean_squared_error, r2_score\n",
    "import torch\n",
    "import torch.nn as nn\n",
    "import seaborn as sns\n",
    "import matplotlib.pyplot as plt\n",
    "from tqdm import tqdm"
   ]
  },
  {
   "cell_type": "code",
   "execution_count": 6,
   "metadata": {},
   "outputs": [
    {
     "name": "stderr",
     "output_type": "stream",
     "text": [
      "/var/folders/xt/qp4h10d92h76_sfj0rh4m3v00000gn/T/ipykernel_18075/2247780661.py:2: DtypeWarning: Columns (5) have mixed types. Specify dtype option on import or set low_memory=False.\n",
      "  data_uncleaned = pd.read_csv(path)\n"
     ]
    }
   ],
   "source": [
    "path = \"../IDMT-Traffic/datasets/df_main.csv\"\n",
    "data_uncleaned = pd.read_csv(path)"
   ]
  },
  {
   "cell_type": "code",
   "execution_count": 7,
   "metadata": {},
   "outputs": [
    {
     "name": "stderr",
     "output_type": "stream",
     "text": [
      "/var/folders/xt/qp4h10d92h76_sfj0rh4m3v00000gn/T/ipykernel_18075/3845355249.py:2: DtypeWarning: Columns (5) have mixed types. Specify dtype option on import or set low_memory=False.\n",
      "  data = pd.read_csv(path)\n"
     ]
    },
    {
     "name": "stdout",
     "output_type": "stream",
     "text": [
      "False\n"
     ]
    }
   ],
   "source": [
    "path = \"../IDMT-Traffic/datasets/df_main.csv\"\n",
    "data = pd.read_csv(path) \n",
    "\n",
    "data.replace([np.inf, -np.inf], np.nan, inplace=True)\n",
    "data.drop([\"sample_pos\"], axis=1, inplace=True)  \n",
    "data[\"speed_kmh\"] = data[\"speed_kmh\"].astype(\"str\")\n",
    "data.dropna(inplace=True)  \n",
    "\n",
    "# Verify no NaN values remain\n",
    "print(data.isnull().values.any()) "
   ]
  },
  {
   "cell_type": "markdown",
   "metadata": {},
   "source": [
    "Encoding + Mapping for the encoded values "
   ]
  },
  {
   "cell_type": "code",
   "execution_count": 4,
   "metadata": {},
   "outputs": [
    {
     "name": "stdout",
     "output_type": "stream",
     "text": [
      "Mapping for column 'is_background': {False: 0}\n",
      "Mapping for column 'date_time': {'2019-10-22-08-40': 0, '2019-10-22-15-30': 1, '2019-10-22-16-35': 2, '2019-10-23-08-35': 3, '2019-10-23-16-20': 4, '2019-11-12-09-00': 5, '2019-11-12-10-00': 6, '2019-11-12-16-00': 7, '2019-11-13-08-00': 8, '2019-11-13-15-30': 9, '2019-11-13-15-55': 10, '2019-11-18-07-25': 11, '2019-11-18-15-45': 12, '2019-11-18-16-40': 13, '2019-11-19-07-25': 14, '2019-11-19-08-30': 15, '2019-11-19-15-25': 16, '2019-11-19-16-30': 17, '2020-08-29-10-02': 18, '2020-08-29-11-02': 19, '2020-08-29-12-07': 20, '2020-08-29-14-02': 21, '2020-08-29-16-07': 22}\n",
      "Mapping for column 'location': {'Fraunhofer-IDMT': 0, 'Hohenwarte': 1, 'Langewiesener-Strasse': 2, 'Schleusinger-Allee': 3}\n",
      "Mapping for column 'speed_kmh': {'30': 0, '50': 1, '70': 2, 'UNK': 3}\n",
      "Mapping for column 'daytime': {'A': 0, 'M': 1}\n",
      "Mapping for column 'weather': {'D': 0, 'W': 1}\n",
      "Mapping for column 'vehicle': {'B': 0, 'C': 1, 'M': 2, 'T': 3}\n",
      "Mapping for column 'source_direction': {'L': 0, 'R': 1}\n",
      "Mapping for column 'microphone': {'ME': 0, 'SE': 1}\n",
      "Mapping for column 'channel': {'CH12': 0, 'CH34': 1}\n"
     ]
    }
   ],
   "source": [
    "le = LabelEncoder()\n",
    "\n",
    "for col in data.columns:\n",
    "    if (data[col].dtype == \"object\" or data[col].dtype == \"category\" or data[col].dtype == \"bool\") and not (col == \"file\"):\n",
    "        #encode column and save in new column\n",
    "        encoded_col = le.fit_transform(data[col])\n",
    "        # add _encoded to the original column name\n",
    "        new_col_name = col + \"_encoded\"\n",
    "        # insert encoded column after the original one \n",
    "        col_index = data.columns.get_loc(col) + 1\n",
    "        data.insert(col_index, new_col_name, encoded_col)\n",
    "\n",
    "        mapping = {category: idx for idx, category in enumerate(le.classes_)}\n",
    "        print(f\"Mapping for column '{col}': {mapping}\")"
   ]
  },
  {
   "cell_type": "code",
   "execution_count": 8,
   "metadata": {},
   "outputs": [],
   "source": [
    "data.to_csv(\"../IDMT-Traffic/datasets/df_main_encoded.csv\")"
   ]
  },
  {
   "cell_type": "code",
   "execution_count": 9,
   "metadata": {},
   "outputs": [],
   "source": [
    "# Find all columns that have \"_encoded\" versions\n",
    "encoded_columns = [col for col in data.columns if '_encoded' in col]\n",
    "\n",
    "# Derive the base names of the encoded columns\n",
    "base_columns_to_drop = [col.replace('_encoded', '') for col in encoded_columns]\n",
    "\n",
    "# Drop the base columns that have \"_encoded\" counterparts\n",
    "data = data.drop(columns=base_columns_to_drop)\n",
    "data.to_csv(\"../IDMT-Traffic/datasets/df_main_encoded_only.csv\", index=False)"
   ]
  },
  {
   "cell_type": "code",
   "execution_count": 10,
   "metadata": {},
   "outputs": [],
   "source": [
    "encoded = pd.read_csv(\"../IDMT-Traffic/datasets/df_main_encoded.csv\")\n",
    "encoded_only = pd.read_csv(\"../IDMT-Traffic/datasets/df_main_encoded_only.csv\")"
   ]
  }
 ],
 "metadata": {
  "kernelspec": {
   "display_name": "base",
   "language": "python",
   "name": "python3"
  },
  "language_info": {
   "codemirror_mode": {
    "name": "ipython",
    "version": 3
   },
   "file_extension": ".py",
   "mimetype": "text/x-python",
   "name": "python",
   "nbconvert_exporter": "python",
   "pygments_lexer": "ipython3",
   "version": "3.11.9"
  }
 },
 "nbformat": 4,
 "nbformat_minor": 2
}
