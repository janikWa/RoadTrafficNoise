{
 "cells": [
  {
   "cell_type": "markdown",
   "metadata": {},
   "source": [
    "## Packages"
   ]
  },
  {
   "cell_type": "code",
   "execution_count": 13,
   "metadata": {},
   "outputs": [],
   "source": [
    "import pandas as pd\n",
    "import numpy as np\n",
    "from sklearn.model_selection import train_test_split\n",
    "from sklearn.linear_model import LogisticRegression\n",
    "from sklearn.metrics import classification_report, accuracy_score, confusion_matrix\n",
    "from sklearn.preprocessing import StandardScaler, LabelEncoder\n",
    "from sklearn.model_selection import learning_curve\n",
    "import matplotlib.pyplot as plt\n"
   ]
  },
  {
   "cell_type": "markdown",
   "metadata": {},
   "source": [
    "## Irrelevant: Preprocess Data"
   ]
  },
  {
   "cell_type": "code",
   "execution_count": null,
   "metadata": {},
   "outputs": [],
   "source": [
    "path = \"../IDMT-Traffic/datasets/df_main.csv\"\n",
    "data = pd.read_csv(path) #data cleaning -> welche Daten nehmen wir, welche nicht? \n",
    "print(data.head(2))\n",
    "print('-'*80)\n",
    "\n",
    "# drop sampleposition, filename, UNnamed:0 columns\n",
    "data.replace([np.inf, -np.inf], np.nan, inplace=True)\n",
    "data.drop([\"sample_pos\"], axis=1, inplace=True)  \n",
    "data.drop([\"file\"], axis=1, inplace=True)\n",
    "data.drop([\"Unnamed: 0\"], axis=1, inplace=True)\n",
    "\n",
    "print(data.head(2))\n",
    "print('-'*80)\n",
    "\n",
    "# amnalyse speed column\n",
    "print(data[\"speed_kmh\"])\n",
    "print('-'*80)\n",
    "data[\"speed_kmh\"] = pd.to_numeric(data[\"speed_kmh\"], errors=\"coerce\")\n",
    "print(data[\"speed_kmh\"].value_counts(dropna=False).sort_index())\n",
    "print('-'*80)\n",
    "\n",
    "# mapping for encoding speed values\n",
    "speed_mapping = {\n",
    "    70.0: 0,\n",
    "    50.0: 1,\n",
    "    30.0: 2,\n",
    "    np.nan: 3  \n",
    "}\n",
    "\n",
    "data[\"speed_kmh_encoded\"] = data[\"speed_kmh\"].map(speed_mapping)\n",
    "\n",
    "print(data[\"speed_kmh_encoded\"].value_counts().sort_index())\n",
    "\n",
    "# Verify no NaN values remain in speed column\n",
    "print(data[\"speed_kmh_encoded\"].isnull().values.any())"
   ]
  },
  {
   "cell_type": "markdown",
   "metadata": {},
   "source": [
    "## Load Data"
   ]
  },
  {
   "cell_type": "code",
   "execution_count": 3,
   "metadata": {},
   "outputs": [
    {
     "name": "stdout",
     "output_type": "stream",
     "text": [
      "   is_background_encoded  date_time_encoded  location_encoded  \\\n",
      "0                      0                  0                 0   \n",
      "1                      0                  0                 0   \n",
      "\n",
      "   speed_kmh_encoded  daytime_encoded  weather_encoded  vehicle_encoded  \\\n",
      "0                  0                1                0                1   \n",
      "1                  0                1                0                1   \n",
      "\n",
      "   source_direction_encoded  microphone_encoded  channel_encoded  ...  \\\n",
      "0                         1                   0                0  ...   \n",
      "1                         1                   1                1  ...   \n",
      "\n",
      "   band_27_dB  band_28_dB  band_29_dB  peak_dB_1  peak_freq_1  peak_dB_2  \\\n",
      "0   37.024301   38.508511   35.946349  50.180933    31.622777  49.528332   \n",
      "1   34.516289   34.960402   33.187933  54.903541  1000.000000  53.196406   \n",
      "\n",
      "   peak_freq_2  peak_dB_3  peak_freq_3  octband_dB_mean  \n",
      "0  1000.000000  47.901831   794.328235        42.383307  \n",
      "1   794.328235  51.942355   501.187234        42.050454  \n",
      "\n",
      "[2 rows x 59 columns]\n",
      "--------------------------------------------------------------------------------\n"
     ]
    }
   ],
   "source": [
    "data_path = '../IDMT-Traffic/datasets/df_main_encoded_only.csv'  \n",
    "df = pd.read_csv(data_path)\n",
    "df = df.drop(columns=['file', 'Unnamed: 0'])\n",
    "print(df.head(2))\n",
    "print('-'*80)\n"
   ]
  },
  {
   "cell_type": "markdown",
   "metadata": {},
   "source": [
    "### Irrelevant: data loading old"
   ]
  },
  {
   "cell_type": "code",
   "execution_count": 59,
   "metadata": {},
   "outputs": [
    {
     "name": "stdout",
     "output_type": "stream",
     "text": [
      "   is_background_encoded  date_time_encoded  location_encoded speed_kmh  \\\n",
      "0                      0                  0                 0        30   \n",
      "1                      0                  0                 0        30   \n",
      "\n",
      "   daytime_encoded  weather_encoded  vehicle_encoded  \\\n",
      "0                1                0                1   \n",
      "1                1                0                1   \n",
      "\n",
      "   source_direction_encoded  microphone_encoded  channel_encoded  ...  \\\n",
      "0                         1                   0                0  ...   \n",
      "1                         1                   1                1  ...   \n",
      "\n",
      "   band_27_dB  band_28_dB  band_29_dB  peak_dB_1  peak_freq_1  peak_dB_2  \\\n",
      "0   37.024301   38.508511   35.946349  50.180933    31.622777  49.528332   \n",
      "1   34.516289   34.960402   33.187933  54.903541  1000.000000  53.196406   \n",
      "\n",
      "   peak_freq_2  peak_dB_3  peak_freq_3  octband_dB_mean  \n",
      "0  1000.000000  47.901831   794.328235        42.383307  \n",
      "1   794.328235  51.942355   501.187234        42.050454  \n",
      "\n",
      "[2 rows x 59 columns]\n",
      "--------------------------------------------------------------------------------\n",
      "speed_kmh\n",
      "30     1183\n",
      "50     5054\n",
      "70     2704\n",
      "UNK     420\n",
      "Name: count, dtype: int64\n",
      "--------------------------------------------------------------------------------\n",
      "speed_kmh_encoded\n",
      "0    2704\n",
      "1    5054\n",
      "2    1183\n",
      "3     420\n",
      "Name: count, dtype: int64\n",
      "[2 0 1 3]\n",
      "False\n"
     ]
    }
   ],
   "source": [
    "data_path = '../IDMT-Traffic/datasets/df_main_encoded_only.csv'  \n",
    "df = pd.read_csv(data_path)\n",
    "df = df.drop(columns=['file', 'Unnamed: 0'])\n",
    "print(df.head(2))\n",
    "print('-'*80)\n",
    "print(df[\"speed_kmh\"].value_counts(dropna=False).sort_index())\n",
    "print('-'*80)\n",
    "\n",
    "# mapping for encoding speed values\n",
    "speed_mapping = {\n",
    "    \"70\": 0,\n",
    "    \"50\": 1,\n",
    "    \"30\": 2,\n",
    "    \"UNK\": 3,\n",
    "    np.nan: 3  \n",
    "}\n",
    "\n",
    "df[\"speed_kmh_encoded\"] = df[\"speed_kmh\"].map(speed_mapping)\n",
    "print(df[\"speed_kmh_encoded\"].value_counts().sort_index())\n",
    "print(df[\"speed_kmh_encoded\"].unique())\n",
    "\n",
    "#delete old speed column and place new, encoded speed column\n",
    "df = df.drop(columns=[\"speed_kmh\"])\n",
    "columns = list(df.columns)\n",
    "columns.insert(3, columns.pop(columns.index(\"speed_kmh_encoded\")))\n",
    "df = df[columns]\n",
    "\n",
    "# Verify no NaN values remain \n",
    "print(df.isnull().values.any())\n",
    "\n",
    "df.to_csv('../Daytime-Classification/df_main_encoded_antonia.csv')"
   ]
  },
  {
   "cell_type": "markdown",
   "metadata": {},
   "source": [
    "## Data Initialization & Split"
   ]
  },
  {
   "cell_type": "code",
   "execution_count": null,
   "metadata": {},
   "outputs": [
    {
     "name": "stdout",
     "output_type": "stream",
     "text": [
      "Trainingsdaten: (5616, 58), Validierungsdaten: (1872, 58), Testdaten: (1873, 58)\n"
     ]
    }
   ],
   "source": [
    "target = 'daytime_encoded'  # Zielvariable\n",
    "X = df.drop(columns=[target])  # Features (alle Spalten außer 'daytime')\n",
    "y = df[target]  # Zielvariable\n",
    "\n",
    "# X_train, X_test, y_train, y_test = train_test_split(X, y, test_size=0.3, random_state=42, stratify=y)\n",
    "\n",
    "# 1st split: train/ test \n",
    "X_train_full, X_test, y_train_full, y_test = train_test_split(X, y, test_size=0.2, random_state=42, stratify=y)\n",
    "# 2nd split: train / validation \n",
    "X_train, X_val, y_train, y_val = train_test_split(X_train_full, y_train_full, test_size=0.25, random_state=42, stratify=y_train_full)\n",
    "# TRAIN 60% VAL 20% TEST 20%\n",
    "\n",
    "# Ausgabe der Größen\n",
    "print(f\"Trainingsdaten: {X_train.shape}, Validierungsdaten: {X_val.shape}, Testdaten: {X_test.shape}\")\n"
   ]
  },
  {
   "cell_type": "markdown",
   "metadata": {},
   "source": [
    "## Initialize Model"
   ]
  },
  {
   "cell_type": "code",
   "execution_count": 24,
   "metadata": {},
   "outputs": [],
   "source": [
    "logreg = LogisticRegression(max_iter=1000, random_state=42, C=2)"
   ]
  },
  {
   "cell_type": "markdown",
   "metadata": {},
   "source": [
    "## Learning Curve Approach "
   ]
  },
  {
   "cell_type": "code",
   "execution_count": 25,
   "metadata": {},
   "outputs": [],
   "source": [
    "# Learning Curve berechnen\n",
    "train_sizes, train_scores, val_scores = learning_curve(\n",
    "    logreg,             # Dein Modell\n",
    "    X_train,            # Trainingsdaten\n",
    "    y_train,            # Zielvariable\n",
    "    cv=5,               # Anzahl der Folds für Cross-Validation\n",
    "    scoring=\"accuracy\", # Metrik zur Bewertung\n",
    "    train_sizes=np.linspace(0.1, 1.0, 10),  # 10 Stufen von 10% bis 100% der Trainingsdaten\n",
    "    n_jobs=-1           # Parallelisierung für schnellere Berechnung\n",
    ")\n",
    "\n",
    "# Mittelwerte und Standardabweichungen der Scores berechnen\n",
    "train_mean = np.mean(train_scores, axis=1)\n",
    "train_std = np.std(train_scores, axis=1)\n",
    "val_mean = np.mean(val_scores, axis=1)\n",
    "val_std = np.std(val_scores, axis=1)\n"
   ]
  },
  {
   "cell_type": "markdown",
   "metadata": {},
   "source": [
    "### Learning Curve Visualisation"
   ]
  },
  {
   "cell_type": "code",
   "execution_count": 26,
   "metadata": {},
   "outputs": [
    {
     "data": {
      "image/png": "[encoded data removed]",
      "text/plain": [
       "<Figure size 1000x600 with 1 Axes>"
      ]
     },
     "metadata": {},
     "output_type": "display_data"
    }
   ],
   "source": [
    "# Plot der Lernkurve\n",
    "plt.figure(figsize=(10, 6))\n",
    "plt.plot(train_sizes, train_mean, 'o-', color=\"blue\", label=\"Training Score\")\n",
    "plt.plot(train_sizes, val_mean, 'o-', color=\"green\", label=\"Validation Score\")\n",
    "\n",
    "# Fülle die Bereiche für Standardabweichung\n",
    "plt.fill_between(train_sizes, train_mean - train_std, train_mean + train_std, alpha=0.2, color=\"blue\")\n",
    "plt.fill_between(train_sizes, val_mean - val_std, val_mean + val_std, alpha=0.2, color=\"green\")\n",
    "\n",
    "# Plot-Konfiguration\n",
    "plt.title(\"Learning Curve\")\n",
    "plt.xlabel(\"Training Set Size\")\n",
    "plt.ylabel(\"Accuracy\")\n",
    "plt.legend(loc=\"best\")\n",
    "plt.grid()\n",
    "plt.show()\n"
   ]
  },
  {
   "cell_type": "markdown",
   "metadata": {},
   "source": [
    "## Train Model"
   ]
  },
  {
   "cell_type": "code",
   "execution_count": 6,
   "metadata": {},
   "outputs": [
    {
     "name": "stderr",
     "output_type": "stream",
     "text": [
      "c:\\Users\\Anton\\anaconda3\\envs\\traffic_noise\\lib\\site-packages\\sklearn\\linear_model\\_logistic.py:460: ConvergenceWarning: lbfgs failed to converge (status=1):\n",
      "STOP: TOTAL NO. of ITERATIONS REACHED LIMIT.\n",
      "\n",
      "Increase the number of iterations (max_iter) or scale the data as shown in:\n",
      "    https://scikit-learn.org/stable/modules/preprocessing.html\n",
      "Please also refer to the documentation for alternative solver options:\n",
      "    https://scikit-learn.org/stable/modules/linear_model.html#logistic-regression\n",
      "  n_iter_i = _check_optimize_result(\n"
     ]
    },
    {
     "data": {
      "text/html": [
       "<style>#sk-container-id-1 {color: black;}#sk-container-id-1 pre{padding: 0;}#sk-container-id-1 div.sk-toggleable {background-color: white;}#sk-container-id-1 label.sk-toggleable__label {cursor: pointer;display: block;width: 100%;margin-bottom: 0;padding: 0.3em;box-sizing: border-box;text-align: center;}#sk-container-id-1 label.sk-toggleable__label-arrow:before {content: \"▸\";float: left;margin-right: 0.25em;color: #696969;}#sk-container-id-1 label.sk-toggleable__label-arrow:hover:before {color: black;}#sk-container-id-1 div.sk-estimator:hover label.sk-toggleable__label-arrow:before {color: black;}#sk-container-id-1 div.sk-toggleable__content {max-height: 0;max-width: 0;overflow: hidden;text-align: left;background-color: #f0f8ff;}#sk-container-id-1 div.sk-toggleable__content pre {margin: 0.2em;color: black;border-radius: 0.25em;background-color: #f0f8ff;}#sk-container-id-1 input.sk-toggleable__control:checked~div.sk-toggleable__content {max-height: 200px;max-width: 100%;overflow: auto;}#sk-container-id-1 input.sk-toggleable__control:checked~label.sk-toggleable__label-arrow:before {content: \"▾\";}#sk-container-id-1 div.sk-estimator input.sk-toggleable__control:checked~label.sk-toggleable__label {background-color: #d4ebff;}#sk-container-id-1 div.sk-label input.sk-toggleable__control:checked~label.sk-toggleable__label {background-color: #d4ebff;}#sk-container-id-1 input.sk-hidden--visually {border: 0;clip: rect(1px 1px 1px 1px);clip: rect(1px, 1px, 1px, 1px);height: 1px;margin: -1px;overflow: hidden;padding: 0;position: absolute;width: 1px;}#sk-container-id-1 div.sk-estimator {font-family: monospace;background-color: #f0f8ff;border: 1px dotted black;border-radius: 0.25em;box-sizing: border-box;margin-bottom: 0.5em;}#sk-container-id-1 div.sk-estimator:hover {background-color: #d4ebff;}#sk-container-id-1 div.sk-parallel-item::after {content: \"\";width: 100%;border-bottom: 1px solid gray;flex-grow: 1;}#sk-container-id-1 div.sk-label:hover label.sk-toggleable__label {background-color: #d4ebff;}#sk-container-id-1 div.sk-serial::before {content: \"\";position: absolute;border-left: 1px solid gray;box-sizing: border-box;top: 0;bottom: 0;left: 50%;z-index: 0;}#sk-container-id-1 div.sk-serial {display: flex;flex-direction: column;align-items: center;background-color: white;padding-right: 0.2em;padding-left: 0.2em;position: relative;}#sk-container-id-1 div.sk-item {position: relative;z-index: 1;}#sk-container-id-1 div.sk-parallel {display: flex;align-items: stretch;justify-content: center;background-color: white;position: relative;}#sk-container-id-1 div.sk-item::before, #sk-container-id-1 div.sk-parallel-item::before {content: \"\";position: absolute;border-left: 1px solid gray;box-sizing: border-box;top: 0;bottom: 0;left: 50%;z-index: -1;}#sk-container-id-1 div.sk-parallel-item {display: flex;flex-direction: column;z-index: 1;position: relative;background-color: white;}#sk-container-id-1 div.sk-parallel-item:first-child::after {align-self: flex-end;width: 50%;}#sk-container-id-1 div.sk-parallel-item:last-child::after {align-self: flex-start;width: 50%;}#sk-container-id-1 div.sk-parallel-item:only-child::after {width: 0;}#sk-container-id-1 div.sk-dashed-wrapped {border: 1px dashed gray;margin: 0 0.4em 0.5em 0.4em;box-sizing: border-box;padding-bottom: 0.4em;background-color: white;}#sk-container-id-1 div.sk-label label {font-family: monospace;font-weight: bold;display: inline-block;line-height: 1.2em;}#sk-container-id-1 div.sk-label-container {text-align: center;}#sk-container-id-1 div.sk-container {/* jupyter's `normalize.less` sets `[hidden] { display: none; }` but bootstrap.min.css set `[hidden] { display: none !important; }` so we also need the `!important` here to be able to override the default hidden behavior on the sphinx rendered scikit-learn.org. See: https://github.com/scikit-learn/scikit-learn/issues/21755 */display: inline-block !important;position: relative;}#sk-container-id-1 div.sk-text-repr-fallback {display: none;}</style><div id=\"sk-container-id-1\" class=\"sk-top-container\"><div class=\"sk-text-repr-fallback\"><pre>LogisticRegression(max_iter=1000, random_state=42)</pre><b>In a Jupyter environment, please rerun this cell to show the HTML representation or trust the notebook. <br />On GitHub, the HTML representation is unable to render, please try loading this page with nbviewer.org.</b></div><div class=\"sk-container\" hidden><div class=\"sk-item\"><div class=\"sk-estimator sk-toggleable\"><input class=\"sk-toggleable__control sk-hidden--visually\" id=\"sk-estimator-id-1\" type=\"checkbox\" checked><label for=\"sk-estimator-id-1\" class=\"sk-toggleable__label sk-toggleable__label-arrow\">LogisticRegression</label><div class=\"sk-toggleable__content\"><pre>LogisticRegression(max_iter=1000, random_state=42)</pre></div></div></div></div></div>"
      ],
      "text/plain": [
       "LogisticRegression(max_iter=1000, random_state=42)"
      ]
     },
     "execution_count": 6,
     "metadata": {},
     "output_type": "execute_result"
    }
   ],
   "source": [
    "# Trainieren des Modells\n",
    "logreg.fit(X_train, y_train)\n"
   ]
  },
  {
   "cell_type": "markdown",
   "metadata": {},
   "source": [
    "## Validate\n"
   ]
  },
  {
   "cell_type": "code",
   "execution_count": 9,
   "metadata": {},
   "outputs": [
    {
     "name": "stdout",
     "output_type": "stream",
     "text": [
      "Validation Accuracy: 0.9011752136752137\n",
      "--------------------------------------------------------------------------------\n",
      "\n",
      "Classification Report:\n",
      "               precision    recall  f1-score   support\n",
      "\n",
      "           A       0.90      0.93      0.92      1095\n",
      "           M       0.90      0.86      0.88       777\n",
      "\n",
      "    accuracy                           0.90      1872\n",
      "   macro avg       0.90      0.89      0.90      1872\n",
      "weighted avg       0.90      0.90      0.90      1872\n",
      "\n",
      "--------------------------------------------------------------------------------\n",
      "\n",
      "Confusion Matrix:\n",
      " [[1021   74]\n",
      " [ 111  666]]\n",
      "--------------------------------------------------------------------------------\n"
     ]
    }
   ],
   "source": [
    "y_val_pred = logreg.predict(X_val)\n",
    "\n",
    "target_names = ['A', 'M']\n",
    "\n",
    "print(\"Validation Accuracy:\", accuracy_score(y_val, y_val_pred))\n",
    "print('-'*80)\n",
    "\n",
    "print(\"\\nClassification Report:\\n\", classification_report(y_val, y_val_pred, target_names= target_names))\n",
    "print('-'*80)\n",
    "\n",
    "print(\"\\nConfusion Matrix:\\n\", confusion_matrix(y_val, y_val_pred))\n",
    "print('-'*80)"
   ]
  },
  {
   "cell_type": "markdown",
   "metadata": {},
   "source": [
    "## Test"
   ]
  },
  {
   "cell_type": "code",
   "execution_count": 10,
   "metadata": {},
   "outputs": [
    {
     "name": "stdout",
     "output_type": "stream",
     "text": [
      "Test Accuracy: 0.9119060331019755\n",
      "--------------------------------------------------------------------------------\n",
      "\n",
      "Classification Report:\n",
      "               precision    recall  f1-score   support\n",
      "\n",
      "           A       0.91      0.95      0.93      1095\n",
      "           M       0.92      0.86      0.89       778\n",
      "\n",
      "    accuracy                           0.91      1873\n",
      "   macro avg       0.91      0.90      0.91      1873\n",
      "weighted avg       0.91      0.91      0.91      1873\n",
      "\n",
      "--------------------------------------------------------------------------------\n",
      "\n",
      "Confusion Matrix:\n",
      " [[1037   58]\n",
      " [ 107  671]]\n",
      "--------------------------------------------------------------------------------\n"
     ]
    }
   ],
   "source": [
    "y_test_pred = logreg.predict(X_test)\n",
    "\n",
    "target_names = ['A', 'M']\n",
    "\n",
    "print(\"Test Accuracy:\", accuracy_score(y_test, y_test_pred))\n",
    "print('-'*80)\n",
    "\n",
    "print(\"\\nClassification Report:\\n\", classification_report(y_test, y_test_pred, target_names= target_names))\n",
    "print('-'*80)\n",
    "\n",
    "print(\"\\nConfusion Matrix:\\n\", confusion_matrix(y_test, y_test_pred))\n",
    "print('-'*80)"
   ]
  },
  {
   "cell_type": "markdown",
   "metadata": {},
   "source": [
    "## Results"
   ]
  },
  {
   "cell_type": "code",
   "execution_count": 10,
   "metadata": {},
   "outputs": [
    {
     "name": "stdout",
     "output_type": "stream",
     "text": [
      "Accuracy: 0.899252402990388\n",
      "--------------------------------------------------------------------------------\n",
      "\n",
      "Classification Report:\n",
      "               precision    recall  f1-score   support\n",
      "\n",
      "           A       0.90      0.93      0.91      1642\n",
      "           M       0.89      0.86      0.88      1167\n",
      "\n",
      "    accuracy                           0.90      2809\n",
      "   macro avg       0.90      0.89      0.90      2809\n",
      "weighted avg       0.90      0.90      0.90      2809\n",
      "\n",
      "--------------------------------------------------------------------------------\n",
      "\n",
      "Confusion Matrix:\n",
      " [[1521  121]\n",
      " [ 162 1005]]\n",
      "--------------------------------------------------------------------------------\n"
     ]
    }
   ],
   "source": [
    "target_names = ['A', 'M']\n",
    "\n",
    "print(\"Accuracy:\", accuracy_score(y_test, y_pred))\n",
    "print('-'*80)\n",
    "\n",
    "print(\"\\nClassification Report:\\n\", classification_report(y_test, y_pred, target_names= target_names))\n",
    "print('-'*80)\n",
    "\n",
    "print(\"\\nConfusion Matrix:\\n\", confusion_matrix(y_test, y_pred))\n",
    "print('-'*80)"
   ]
  }
 ],
 "metadata": {
  "kernelspec": {
   "display_name": "traffic_noise",
   "language": "python",
   "name": "traffic_noise"
  },
  "language_info": {
   "codemirror_mode": {
    "name": "ipython",
    "version": 3
   },
   "file_extension": ".py",
   "mimetype": "text/x-python",
   "name": "python",
   "nbconvert_exporter": "python",
   "pygments_lexer": "ipython3",
   "version": "3.8.20"
  }
 },
 "nbformat": 4,
 "nbformat_minor": 2
}
