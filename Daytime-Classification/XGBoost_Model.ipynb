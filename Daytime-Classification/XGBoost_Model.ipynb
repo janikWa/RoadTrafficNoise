{
 "cells": [
  {
   "cell_type": "markdown",
   "metadata": {},
   "source": [
    "## Packages"
   ]
  },
  {
   "cell_type": "code",
   "execution_count": 1,
   "metadata": {},
   "outputs": [],
   "source": [
    "import pandas as pd\n",
    "import numpy as np\n",
    "from sklearn.metrics import classification_report, accuracy_score, confusion_matrix\n",
    "from sklearn.preprocessing import StandardScaler, LabelEncoder\n",
    "import matplotlib.pyplot as plt\n",
    "from xgboost import XGBClassifier\n",
    "from sklearn.model_selection import train_test_split, cross_val_score\n",
    "from sklearn.pipeline import Pipeline\n"
   ]
  },
  {
   "cell_type": "markdown",
   "metadata": {},
   "source": [
    "## Load Data"
   ]
  },
  {
   "cell_type": "code",
   "execution_count": 9,
   "metadata": {},
   "outputs": [
    {
     "name": "stdout",
     "output_type": "stream",
     "text": [
      "   location_encoded  speed_kmh_encoded  daytime_encoded  weather_encoded  \\\n",
      "0                 0                  0                1                0   \n",
      "1                 0                  0                1                0   \n",
      "\n",
      "   vehicle_encoded  source_direction_encoded  microphone_encoded  \\\n",
      "0                1                         1                   0   \n",
      "1                1                         1                   1   \n",
      "\n",
      "   channel_encoded     mfcc_1     mfcc_2  ...  band_27_dB  band_28_dB  \\\n",
      "0                0  55.967507   8.496416  ...   37.024301   38.508511   \n",
      "1                1  52.986820  12.135305  ...   34.516289   34.960402   \n",
      "\n",
      "   band_29_dB  peak_dB_1  peak_freq_1  peak_dB_2  peak_freq_2  peak_dB_3  \\\n",
      "0   35.946349  50.180933    31.622777  49.528332  1000.000000  47.901831   \n",
      "1   33.187933  54.903541  1000.000000  53.196406   794.328235  51.942355   \n",
      "\n",
      "   peak_freq_3  octband_dB_mean  \n",
      "0   794.328235        42.383307  \n",
      "1   501.187234        42.050454  \n",
      "\n",
      "[2 rows x 57 columns]\n"
     ]
    }
   ],
   "source": [
    "data_path = '../IDMT-Traffic/datasets/df_main_encoded_only.csv'  \n",
    "df = pd.read_csv(data_path)\n",
    "#df = df.drop(columns=['file', 'Unnamed: 0', 'is_background_encoded'])\n",
    "df = df.drop(columns=['file', 'Unnamed: 0', 'is_background_encoded', 'date_time_encoded'])\n",
    "\n",
    "print(df.head(2))"
   ]
  },
  {
   "cell_type": "markdown",
   "metadata": {},
   "source": [
    "## Data Initialization & Split"
   ]
  },
  {
   "cell_type": "code",
   "execution_count": 10,
   "metadata": {},
   "outputs": [
    {
     "name": "stdout",
     "output_type": "stream",
     "text": [
      "Trainingsdaten: (6552, 56), Testdaten: (2809, 56)\n"
     ]
    }
   ],
   "source": [
    "# set target\n",
    "target = 'daytime_encoded'  # Zielvariable\n",
    "X = df.drop(columns=[target])  # Features (alle Spalten außer 'daytime')\n",
    "y = df[target]  # Zielvariable\n",
    "\n",
    "# Train test Split\n",
    "X_train, X_test, y_train, y_test = train_test_split(X, y, test_size=0.3, random_state=42, stratify=y)\n",
    "\n",
    "# Ausgabe der Größen\n",
    "print(f\"Trainingsdaten: {X_train.shape}, Testdaten: {X_test.shape}\")\n",
    "\n",
    "\n",
    "# 1st split: train/ test \n",
    "#X_train_full, X_test, y_train_full, y_test = train_test_split(X, y, test_size=0.2, random_state=42, stratify=y)\n",
    "# 2nd split: train / validation \n",
    "#X_train, X_val, y_train, y_val = train_test_split(X_train_full, y_train_full, test_size=0.25, random_state=42, stratify=y_train_full)\n",
    "# TRAIN 60% VAL 20% TEST 20%\n",
    "#print(f\"Trainingsdaten: {X_train.shape}, Validierungsdaten: {X_val.shape}, Testdaten: {X_test.shape}\")\n",
    "# standardize data\n",
    "#scaler = StandardScaler() \n",
    "#X_filtered_scaled = scaler.fit_transform(X)"
   ]
  },
  {
   "cell_type": "markdown",
   "metadata": {},
   "source": [
    "### Baseline Approach"
   ]
  },
  {
   "cell_type": "code",
   "execution_count": 11,
   "metadata": {},
   "outputs": [
    {
     "name": "stderr",
     "output_type": "stream",
     "text": [
      "c:\\Users\\Anton\\anaconda3\\envs\\traffic_noise\\lib\\site-packages\\xgboost\\core.py:158: UserWarning: [15:16:46] WARNING: D:\\bld\\xgboost-split_1724807710452\\work\\src\\learner.cc:740: \n",
      "Parameters: { \"use_label_encoder\" } are not used.\n",
      "\n",
      "  warnings.warn(smsg, UserWarning)\n"
     ]
    },
    {
     "name": "stdout",
     "output_type": "stream",
     "text": [
      "Accuracy: 0.9409042363830544\n",
      "--------------------------------------------------------------------------------\n",
      "\n",
      "Classification Report:\n",
      "               precision    recall  f1-score   support\n",
      "\n",
      "           A       0.95      0.95      0.95      1642\n",
      "           M       0.93      0.92      0.93      1167\n",
      "\n",
      "    accuracy                           0.94      2809\n",
      "   macro avg       0.94      0.94      0.94      2809\n",
      "weighted avg       0.94      0.94      0.94      2809\n",
      "\n",
      "--------------------------------------------------------------------------------\n",
      "\n",
      "Confusion Matrix:\n",
      " [[1564   78]\n",
      " [  88 1079]]\n",
      "--------------------------------------------------------------------------------\n"
     ]
    }
   ],
   "source": [
    "# initialize model\n",
    "xgb_model = XGBClassifier(use_label_encoder=False, eval_metric='logloss', random_state=42)\n",
    "\n",
    "# train model\n",
    "xgb_model.fit(X_train, y_train)\n",
    "\n",
    "# results\n",
    "y_pred = xgb_model.predict(X_test)\n",
    "\n",
    "target_names = ['A', 'M']\n",
    "\n",
    "print(\"Accuracy:\", accuracy_score(y_test, y_pred))\n",
    "print('-'*80)\n",
    "\n",
    "print(\"\\nClassification Report:\\n\", classification_report(y_test, y_pred, target_names= target_names))\n",
    "print('-'*80)\n",
    "\n",
    "print(\"\\nConfusion Matrix:\\n\", confusion_matrix(y_test, y_pred))\n",
    "print('-'*80)"
   ]
  },
  {
   "cell_type": "markdown",
   "metadata": {},
   "source": [
    "### Pipeline with Scaler, Cross Validation"
   ]
  },
  {
   "cell_type": "code",
   "execution_count": 12,
   "metadata": {},
   "outputs": [
    {
     "name": "stdout",
     "output_type": "stream",
     "text": [
      "Cross-Validation Accuracy Scores: [0.935164   0.93363844 0.9259542  0.91526718 0.92824427]\n",
      "Mean CV Accuracy: 0.9276536179479565\n",
      "\n",
      "Testdaten-Auswertung:\n",
      "              precision    recall  f1-score   support\n",
      "\n",
      "           A       0.95      0.95      0.95      1642\n",
      "           M       0.93      0.92      0.93      1167\n",
      "\n",
      "    accuracy                           0.94      2809\n",
      "   macro avg       0.94      0.94      0.94      2809\n",
      "weighted avg       0.94      0.94      0.94      2809\n",
      "\n",
      "\n",
      "Confusion Matrix:\n",
      " [[1564   78]\n",
      " [  88 1079]]\n"
     ]
    }
   ],
   "source": [
    "pipeline = Pipeline([\n",
    "    ('scaler', StandardScaler()),  # Schritt 1: Standardisierung\n",
    "    ('classifier', XGBClassifier(  # Schritt 2: XGBoost\n",
    "        random_state=42,\n",
    "        eval_metric='logloss'    # Bewertungsmetrik\n",
    "    ))  \n",
    "])\n",
    "\n",
    "# Cross-Validation auf den Trainingsdaten\n",
    "cv_scores = cross_val_score(pipeline, X_train, y_train, cv=5, scoring='accuracy')\n",
    "\n",
    "# Pipeline trainieren auf dem gesamten Training-Set\n",
    "pipeline.fit(X_train, y_train)\n",
    "\n",
    "# Vorhersagen auf den Testdaten\n",
    "y_pred = pipeline.predict(X_test)\n",
    "\n",
    "# Ergebnisse ausgeben\n",
    "target_names = ['A', 'M']\n",
    "print(\"Cross-Validation Accuracy Scores:\", cv_scores)\n",
    "print(\"Mean CV Accuracy:\", np.mean(cv_scores))\n",
    "print(\"\\nTestdaten-Auswertung:\")\n",
    "print(classification_report(y_test, y_pred, target_names= target_names))\n",
    "print(\"\\nConfusion Matrix:\\n\", confusion_matrix(y_test, y_pred))"
   ]
  }
 ],
 "metadata": {
  "kernelspec": {
   "display_name": "traffic_noise",
   "language": "python",
   "name": "traffic_noise"
  },
  "language_info": {
   "codemirror_mode": {
    "name": "ipython",
    "version": 3
   },
   "file_extension": ".py",
   "mimetype": "text/x-python",
   "name": "python",
   "nbconvert_exporter": "python",
   "pygments_lexer": "ipython3",
   "version": "3.8.20"
  }
 },
 "nbformat": 4,
 "nbformat_minor": 2
}
