{
 "cells": [
  {
   "cell_type": "markdown",
   "metadata": {},
   "source": [
    "## Packages"
   ]
  },
  {
   "cell_type": "code",
   "execution_count": 1,
   "metadata": {},
   "outputs": [],
   "source": [
    "import pandas as pd\n",
    "import numpy as np\n",
    "from sklearn.metrics import classification_report, accuracy_score, confusion_matrix\n",
    "from sklearn.preprocessing import StandardScaler, LabelEncoder\n",
    "import matplotlib.pyplot as plt\n",
    "from xgboost import XGBClassifier\n",
    "from sklearn.model_selection import train_test_split, cross_val_score\n",
    "from sklearn.pipeline import Pipeline\n",
    "from sklearn.model_selection import learning_curve\n"
   ]
  },
  {
   "cell_type": "markdown",
   "metadata": {},
   "source": [
    "## Load Data"
   ]
  },
  {
   "cell_type": "code",
   "execution_count": 2,
   "metadata": {},
   "outputs": [],
   "source": [
    "data_path = '../IDMT-Traffic/datasets/df_main_encoded_only.csv'  \n",
    "df = pd.read_csv(data_path)\n",
    "df = df.drop(columns=['file', 'Unnamed: 0', 'is_background_encoded']) "
   ]
  },
  {
   "cell_type": "markdown",
   "metadata": {},
   "source": [
    "## Data Initialization & Split"
   ]
  },
  {
   "cell_type": "code",
   "execution_count": 3,
   "metadata": {},
   "outputs": [
    {
     "name": "stdout",
     "output_type": "stream",
     "text": [
      "Trainingsdaten: (6552, 57), Testdaten: (2809, 57)\n"
     ]
    }
   ],
   "source": [
    "# set target\n",
    "target = 'daytime_encoded'  # Zielvariable\n",
    "X = df.drop(columns=[target])  # Features (alle Spalten außer 'daytime')\n",
    "y = df[target]  # Zielvariable\n",
    "\n",
    "# Train test Split\n",
    "X_train, X_test, y_train, y_test = train_test_split(X, y, test_size=0.3, random_state=42, stratify=y)\n",
    "\n",
    "# Ausgabe der Größen\n",
    "print(f\"Trainingsdaten: {X_train.shape}, Testdaten: {X_test.shape}\")\n",
    "\n",
    "\n",
    "# 1st split: train/ test \n",
    "#X_train_full, X_test, y_train_full, y_test = train_test_split(X, y, test_size=0.2, random_state=42, stratify=y)\n",
    "# 2nd split: train / validation \n",
    "#X_train, X_val, y_train, y_val = train_test_split(X_train_full, y_train_full, test_size=0.25, random_state=42, stratify=y_train_full)\n",
    "# TRAIN 60% VAL 20% TEST 20%\n",
    "#print(f\"Trainingsdaten: {X_train.shape}, Validierungsdaten: {X_val.shape}, Testdaten: {X_test.shape}\")\n",
    "# standardize data\n",
    "#scaler = StandardScaler() \n",
    "#X_filtered_scaled = scaler.fit_transform(X)"
   ]
  },
  {
   "cell_type": "markdown",
   "metadata": {},
   "source": [
    "### Baseline Approach"
   ]
  },
  {
   "cell_type": "code",
   "execution_count": 4,
   "metadata": {},
   "outputs": [
    {
     "name": "stderr",
     "output_type": "stream",
     "text": [
      "c:\\Users\\Anton\\anaconda3\\envs\\traffic_noise\\lib\\site-packages\\xgboost\\core.py:158: UserWarning: [17:22:41] WARNING: D:\\bld\\xgboost-split_1724807710452\\work\\src\\learner.cc:740: \n",
      "Parameters: { \"use_label_encoder\" } are not used.\n",
      "\n",
      "  warnings.warn(smsg, UserWarning)\n"
     ]
    },
    {
     "name": "stdout",
     "output_type": "stream",
     "text": [
      "Training Accuracy: 1.0\n",
      "Test Accuracy: 1.0\n",
      "--------------------------------------------------------------------------------\n",
      "\n",
      "Classification Report:\n",
      "               precision    recall  f1-score   support\n",
      "\n",
      "           A       1.00      1.00      1.00      1642\n",
      "           M       1.00      1.00      1.00      1167\n",
      "\n",
      "    accuracy                           1.00      2809\n",
      "   macro avg       1.00      1.00      1.00      2809\n",
      "weighted avg       1.00      1.00      1.00      2809\n",
      "\n",
      "--------------------------------------------------------------------------------\n",
      "\n",
      "Confusion Matrix:\n",
      " [[1642    0]\n",
      " [   0 1167]]\n",
      "--------------------------------------------------------------------------------\n"
     ]
    }
   ],
   "source": [
    "# initialize model\n",
    "xgb_model = XGBClassifier(use_label_encoder=False, eval_metric='logloss', random_state=42)\n",
    "\n",
    "# train model\n",
    "xgb_model.fit(X_train, y_train)\n",
    "\n",
    "# results\n",
    "y_pred = xgb_model.predict(X_test)\n",
    "\n",
    "print(\"Training Accuracy:\", xgb_model.score(X_train, y_train))\n",
    "print(\"Test Accuracy:\", xgb_model.score(X_test, y_test))\n",
    "\n",
    "\n",
    "target_names = ['A', 'M']\n",
    "print('-'*80)\n",
    "\n",
    "print(\"\\nClassification Report:\\n\", classification_report(y_test, y_pred, target_names= target_names))\n",
    "print('-'*80)\n",
    "\n",
    "print(\"\\nConfusion Matrix:\\n\", confusion_matrix(y_test, y_pred))\n",
    "print('-'*80)"
   ]
  },
  {
   "cell_type": "markdown",
   "metadata": {},
   "source": [
    "XG Boost baseline model shows irregular accuracy of 100%, there is some problem. Test for overfitting or data leakage."
   ]
  },
  {
   "cell_type": "markdown",
   "metadata": {},
   "source": [
    "### Pipeline with Scaler, Cross Validation"
   ]
  },
  {
   "cell_type": "code",
   "execution_count": 5,
   "metadata": {},
   "outputs": [
    {
     "name": "stdout",
     "output_type": "stream",
     "text": [
      "Cross-Validation Accuracy Scores: [1.         0.99923722 0.99923664 0.99847328 1.        ]\n",
      "Mean CV Accuracy: 0.9993894294315278\n",
      "\n",
      "Testdaten-Auswertung:\n",
      "              precision    recall  f1-score   support\n",
      "\n",
      "           A       1.00      1.00      1.00      1642\n",
      "           M       1.00      1.00      1.00      1167\n",
      "\n",
      "    accuracy                           1.00      2809\n",
      "   macro avg       1.00      1.00      1.00      2809\n",
      "weighted avg       1.00      1.00      1.00      2809\n",
      "\n",
      "\n",
      "Confusion Matrix:\n",
      " [[1642    0]\n",
      " [   0 1167]]\n"
     ]
    }
   ],
   "source": [
    "pipeline = Pipeline([\n",
    "    ('scaler', StandardScaler()),  # Schritt 1: Standardisierung\n",
    "    ('classifier', XGBClassifier(  # Schritt 2: XGBoost\n",
    "        random_state=42,\n",
    "        eval_metric='logloss'    # Bewertungsmetrik\n",
    "    ))  \n",
    "])\n",
    "\n",
    "# Cross-Validation auf den Trainingsdaten\n",
    "cv_scores = cross_val_score(pipeline, X_train, y_train, cv=5, scoring='accuracy')\n",
    "\n",
    "# Pipeline trainieren auf dem gesamten Training-Set\n",
    "pipeline.fit(X_train, y_train)\n",
    "\n",
    "# Vorhersagen auf den Testdaten\n",
    "y_pred = pipeline.predict(X_test)\n",
    "\n",
    "# Ergebnisse ausgeben\n",
    "target_names = ['A', 'M']\n",
    "print(\"Cross-Validation Accuracy Scores:\", cv_scores)\n",
    "print(\"Mean CV Accuracy:\", np.mean(cv_scores))\n",
    "print(\"\\nTestdaten-Auswertung:\")\n",
    "print(classification_report(y_test, y_pred, target_names= target_names))\n",
    "print(\"\\nConfusion Matrix:\\n\", confusion_matrix(y_test, y_pred))"
   ]
  },
  {
   "cell_type": "markdown",
   "metadata": {},
   "source": [
    "Cross validation accuracy is close to test accuracy, both indicate overfitting."
   ]
  },
  {
   "cell_type": "markdown",
   "metadata": {},
   "source": [
    "### Learning Curve Approach"
   ]
  },
  {
   "cell_type": "code",
   "execution_count": 6,
   "metadata": {},
   "outputs": [],
   "source": [
    "# Learning Curve berechnen\n",
    "train_sizes, train_scores, val_scores = learning_curve(\n",
    "    xgb_model,             # Dein Modell\n",
    "    X_train,            # Trainingsdaten\n",
    "    y_train,            # Zielvariable\n",
    "    cv=5,               # Anzahl der Folds für Cross-Validation\n",
    "    scoring=\"accuracy\", # Metrik zur Bewertung\n",
    "    train_sizes=np.linspace(0.1, 1.0, 10),  # 10 Stufen von 10% bis 100% der Trainingsdaten\n",
    "    n_jobs=-1           # Parallelisierung für schnellere Berechnung\n",
    ")\n",
    "\n",
    "# Mittelwerte und Standardabweichungen der Scores berechnen\n",
    "train_mean = np.mean(train_scores, axis=1)\n",
    "train_std = np.std(train_scores, axis=1)\n",
    "val_mean = np.mean(val_scores, axis=1)\n",
    "val_std = np.std(val_scores, axis=1)\n"
   ]
  },
  {
   "cell_type": "markdown",
   "metadata": {},
   "source": [
    "###  Learning Curve Visualisation"
   ]
  },
  {
   "cell_type": "code",
   "execution_count": 9,
   "metadata": {},
   "outputs": [
    {
     "data": {
      "image/png": "[encoded data removed]",
      "text/plain": [
       "<Figure size 1000x600 with 1 Axes>"
      ]
     },
     "metadata": {},
     "output_type": "display_data"
    }
   ],
   "source": [
    "# Plot der Lernkurve\n",
    "plt.figure(figsize=(10, 6))\n",
    "plt.plot(train_sizes, train_mean, 'o-', color=\"blue\", label=\"Training Score\")\n",
    "plt.plot(train_sizes, val_mean, 'o-', color=\"green\", label=\"Validation Score\")\n",
    "\n",
    "# Fülle die Bereiche für Standardabweichung\n",
    "plt.fill_between(train_sizes, train_mean - train_std, train_mean + train_std, alpha=0.2, color=\"blue\")\n",
    "plt.fill_between(train_sizes, val_mean - val_std, val_mean + val_std, alpha=0.2, color=\"green\")\n",
    "\n",
    "# Plot-Konfiguration\n",
    "plt.title(\"Learning Curve\")\n",
    "plt.xlabel(\"Training Set Size\")\n",
    "plt.ylabel(\"Accuracy\")\n",
    "plt.legend(loc=\"best\")\n",
    "plt.grid()\n",
    "plt.show()\n"
   ]
  },
  {
   "cell_type": "markdown",
   "metadata": {},
   "source": [
    "This approach shows, that overfitting is related to training set size, as test accuracy is constant at 100% and validation accuracy also approaches 100%. Problem is probably mostly part of the dataset and needs to be adressed. "
   ]
  },
  {
   "cell_type": "markdown",
   "metadata": {},
   "source": [
    "### Remove features with overpowered importance from feature_importance_analysis.ipynb"
   ]
  },
  {
   "cell_type": "code",
   "execution_count": 10,
   "metadata": {},
   "outputs": [
    {
     "name": "stdout",
     "output_type": "stream",
     "text": [
      "Trainingsdaten: (6552, 49), Testdaten: (2809, 49)\n"
     ]
    }
   ],
   "source": [
    "data_path = '../IDMT-Traffic/datasets/df_main_encoded_only.csv'  \n",
    "df_improved = pd.read_csv(data_path)\n",
    "df_improved = df_improved.drop(columns=['file', 'Unnamed: 0', 'is_background_encoded']) \n",
    "\n",
    "# drop overpowered features\n",
    "common_features = pd.read_csv(\"FeatureSelectionForDeletion/common_features.csv\") \n",
    "features_to_drop = common_features[\"Common Features\"].tolist()\n",
    "df_improved = df_improved.drop(columns=features_to_drop, errors=\"ignore\")\n",
    "\n",
    "# set target\n",
    "target = 'daytime_encoded'  # Zielvariable\n",
    "X = df_improved.drop(columns=[target])  # Features (alle Spalten außer 'daytime')\n",
    "y = df_improved[target]  # Zielvariable\n",
    "\n",
    "# Train test Split\n",
    "X_train_improved, X_test_improved, y_train_improved, y_test_improved = train_test_split(X, y, test_size=0.3, random_state=42, stratify=y)\n",
    "\n",
    "# Ausgabe der Größen\n",
    "print(f\"Trainingsdaten: {X_train_improved.shape}, Testdaten: {X_test_improved.shape}\")"
   ]
  },
  {
   "cell_type": "markdown",
   "metadata": {},
   "source": [
    "### Feature Selected Baseline Performance "
   ]
  },
  {
   "cell_type": "code",
   "execution_count": 13,
   "metadata": {},
   "outputs": [
    {
     "name": "stderr",
     "output_type": "stream",
     "text": [
      "c:\\Users\\Anton\\anaconda3\\envs\\traffic_noise\\lib\\site-packages\\xgboost\\core.py:158: UserWarning: [17:33:47] WARNING: D:\\bld\\xgboost-split_1724807710452\\work\\src\\learner.cc:740: \n",
      "Parameters: { \"use_label_encoder\" } are not used.\n",
      "\n",
      "  warnings.warn(smsg, UserWarning)\n"
     ]
    },
    {
     "name": "stdout",
     "output_type": "stream",
     "text": [
      "Training Accuracy: 1.0\n",
      "Test Accuracy: 0.9252402990388039\n",
      "--------------------------------------------------------------------------------\n",
      "\n",
      "Classification Report:\n",
      "               precision    recall  f1-score   support\n",
      "\n",
      "           A       0.93      0.94      0.94      1642\n",
      "           M       0.92      0.90      0.91      1167\n",
      "\n",
      "    accuracy                           0.93      2809\n",
      "   macro avg       0.92      0.92      0.92      2809\n",
      "weighted avg       0.93      0.93      0.93      2809\n",
      "\n",
      "--------------------------------------------------------------------------------\n",
      "\n",
      "Confusion Matrix:\n",
      " [[1551   91]\n",
      " [ 119 1048]]\n",
      "--------------------------------------------------------------------------------\n"
     ]
    }
   ],
   "source": [
    "# initialize model\n",
    "xgb_model = XGBClassifier(use_label_encoder=False, eval_metric='logloss', random_state=42)\n",
    "\n",
    "# train model\n",
    "xgb_model.fit(X_train_improved, y_train_improved)\n",
    "\n",
    "# results\n",
    "y_pred_improved = xgb_model.predict(X_test_improved)\n",
    "\n",
    "target_names = ['A', 'M']\n",
    "\n",
    "print(\"Training Accuracy:\", xgb_model.score(X_train_improved, y_train_improved))\n",
    "print(\"Test Accuracy:\", xgb_model.score(X_test_improved, y_test_improved))\n",
    "\n",
    "print('-'*80)\n",
    "\n",
    "print(\"\\nClassification Report:\\n\", classification_report(y_test_improved, y_pred_improved, target_names= target_names))\n",
    "print('-'*80)\n",
    "\n",
    "print(\"\\nConfusion Matrix:\\n\", confusion_matrix(y_test_improved, y_pred_improved))\n",
    "print('-'*80)"
   ]
  },
  {
   "cell_type": "markdown",
   "metadata": {},
   "source": [
    "There is still overfitting in the trining process. But generalization is better already due to normal test accuracy value."
   ]
  },
  {
   "cell_type": "markdown",
   "metadata": {},
   "source": [
    "### Feature Selcted Pipeline with Scaler & Crossvalidation"
   ]
  },
  {
   "cell_type": "code",
   "execution_count": 14,
   "metadata": {},
   "outputs": [
    {
     "name": "stdout",
     "output_type": "stream",
     "text": [
      "Cross-Validation Accuracy Scores: [0.92448513 0.91151793 0.91068702 0.91526718 0.91374046]\n",
      "Mean CV Accuracy: 0.9151395415189152\n",
      "\n",
      "Testdaten-Auswertung:\n",
      "              precision    recall  f1-score   support\n",
      "\n",
      "           A       0.93      0.94      0.94      1642\n",
      "           M       0.92      0.90      0.91      1167\n",
      "\n",
      "    accuracy                           0.93      2809\n",
      "   macro avg       0.92      0.92      0.92      2809\n",
      "weighted avg       0.93      0.93      0.93      2809\n",
      "\n",
      "\n",
      "Confusion Matrix:\n",
      " [[1551   91]\n",
      " [ 119 1048]]\n"
     ]
    }
   ],
   "source": [
    "pipeline = Pipeline([\n",
    "    ('scaler', StandardScaler()),  # Schritt 1: Standardisierung\n",
    "    ('classifier', XGBClassifier(  # Schritt 2: XGBoost\n",
    "        random_state=42,\n",
    "        eval_metric='logloss'    # Bewertungsmetrik\n",
    "    ))  \n",
    "])\n",
    "\n",
    "# Cross-Validation auf den Trainingsdaten\n",
    "cv_scores = cross_val_score(pipeline, X_train_improved, y_train_improved, cv=5, scoring='accuracy')\n",
    "\n",
    "# Pipeline trainieren auf dem gesamten Training-Set\n",
    "pipeline.fit(X_train_improved, y_train_improved)\n",
    "\n",
    "# Vorhersagen auf den Testdaten\n",
    "y_pred_improved = pipeline.predict(X_test_improved)\n",
    "\n",
    "# Ergebnisse ausgeben\n",
    "target_names = ['A', 'M']\n",
    "print(\"Cross-Validation Accuracy Scores:\", cv_scores)\n",
    "print(\"Mean CV Accuracy:\", np.mean(cv_scores))\n",
    "print(\"\\nTestdaten-Auswertung:\")\n",
    "print(classification_report(y_test_improved, y_pred_improved, target_names= target_names))\n",
    "print(\"\\nConfusion Matrix:\\n\", confusion_matrix(y_test_improved, y_pred_improved))"
   ]
  },
  {
   "cell_type": "markdown",
   "metadata": {},
   "source": [
    "Validation fold (0.9137) is slightly worse than trainings folds, which indicates no overfitting. In general accuracy is slightly worse than before. Indicates less overfitting."
   ]
  },
  {
   "cell_type": "markdown",
   "metadata": {},
   "source": [
    "### Hyperparameter tuning with grid search"
   ]
  },
  {
   "cell_type": "code",
   "execution_count": 15,
   "metadata": {},
   "outputs": [
    {
     "name": "stdout",
     "output_type": "stream",
     "text": [
      "Fitting 5 folds for each of 324 candidates, totalling 1620 fits\n"
     ]
    },
    {
     "name": "stderr",
     "output_type": "stream",
     "text": [
      "c:\\Users\\Anton\\anaconda3\\envs\\traffic_noise\\lib\\site-packages\\xgboost\\core.py:158: UserWarning: [17:48:26] WARNING: D:\\bld\\xgboost-split_1724807710452\\work\\src\\learner.cc:740: \n",
      "Parameters: { \"use_label_encoder\" } are not used.\n",
      "\n",
      "  warnings.warn(smsg, UserWarning)\n"
     ]
    },
    {
     "name": "stdout",
     "output_type": "stream",
     "text": [
      "Beste Hyperparameter: {'classifier__colsample_bytree': 1.0, 'classifier__gamma': 0.2, 'classifier__learning_rate': 0.2, 'classifier__max_depth': 5, 'classifier__n_estimators': 100, 'classifier__subsample': 0.8}\n",
      "Beste Cross-Validation-Genauigkeit: 0.9198705026755404\n",
      "\n",
      "Testdaten-Auswertung:\n",
      "              precision    recall  f1-score   support\n",
      "\n",
      "           A       0.92      0.95      0.93      1642\n",
      "           M       0.92      0.89      0.90      1167\n",
      "\n",
      "    accuracy                           0.92      2809\n",
      "   macro avg       0.92      0.92      0.92      2809\n",
      "weighted avg       0.92      0.92      0.92      2809\n",
      "\n",
      "\n",
      "Confusion Matrix:\n",
      " [[1554   88]\n",
      " [ 130 1037]]\n"
     ]
    }
   ],
   "source": [
    "from sklearn.model_selection import GridSearchCV, cross_val_score\n",
    "\n",
    "\n",
    "# Pipeline mit StandardScaler und XGBClassifier\n",
    "pipeline = Pipeline([\n",
    "    ('scaler', StandardScaler()),  # Schritt 1: Standardisierung\n",
    "    ('classifier', XGBClassifier(use_label_encoder=False, eval_metric='logloss', random_state=42))  # Schritt 2: XGBoost\n",
    "])\n",
    "\n",
    "# Hyperparameter für GridSearch\n",
    "param_grid = {\n",
    "    'classifier__n_estimators': [50, 100, 150],       # Anzahl der Bäume\n",
    "    'classifier__max_depth': [3, 5, 7],              # Maximale Tiefe der Bäume\n",
    "    'classifier__learning_rate': [0.01, 0.1, 0.2],   # Lernrate\n",
    "    'classifier__subsample': [0.8, 1.0],             # Anteil der Stichprobe für jeden Baum\n",
    "    'classifier__colsample_bytree': [0.8, 1.0],      # Anteil der Spalten pro Baum\n",
    "    'classifier__gamma': [0, 0.1, 0.2]               # Mindestverlustreduktion, um einen Split zu machen\n",
    "}\n",
    "\n",
    "# GridSearchCV mit Cross-Validation\n",
    "grid_search = GridSearchCV(\n",
    "    estimator=pipeline,\n",
    "    param_grid=param_grid,\n",
    "    cv=5,                         # Anzahl der Cross-Validation-Folds\n",
    "    scoring='accuracy',           # Metrik zur Bewertung\n",
    "    n_jobs=-1,                    # Parallelisierung\n",
    "    verbose=2                     # Fortschrittsanzeige\n",
    ")\n",
    "\n",
    "# GridSearchCV auf die verbesserten Trainingsdaten anwenden\n",
    "grid_search.fit(X_train_improved, y_train_improved)\n",
    "\n",
    "# Beste Hyperparameter und Ergebnis anzeigen\n",
    "print(\"Beste Hyperparameter:\", grid_search.best_params_)\n",
    "print(\"Beste Cross-Validation-Genauigkeit:\", grid_search.best_score_)\n",
    "\n",
    "# Pipeline mit den besten Parametern trainieren\n",
    "best_pipeline = grid_search.best_estimator_\n",
    "\n",
    "# Vorhersagen auf den verbesserten Testdaten\n",
    "y_pred_improved = best_pipeline.predict(X_test_improved)\n",
    "\n",
    "# Ergebnisse auf den verbesserten Testdaten ausgeben\n",
    "target_names = ['A', 'M']  # Klassenbezeichnungen anpassen\n",
    "print(\"\\nTestdaten-Auswertung:\")\n",
    "print(classification_report(y_test_improved, y_pred_improved, target_names=target_names))\n",
    "print(\"\\nConfusion Matrix:\\n\", confusion_matrix(y_test_improved, y_pred_improved))\n"
   ]
  },
  {
   "cell_type": "markdown",
   "metadata": {},
   "source": [
    "### Model test with optimal hyperparameters and improved feature selection"
   ]
  },
  {
   "cell_type": "code",
   "execution_count": 16,
   "metadata": {},
   "outputs": [
    {
     "name": "stderr",
     "output_type": "stream",
     "text": [
      "c:\\Users\\Anton\\anaconda3\\envs\\traffic_noise\\lib\\site-packages\\xgboost\\core.py:158: UserWarning: [17:51:28] WARNING: D:\\bld\\xgboost-split_1724807710452\\work\\src\\learner.cc:740: \n",
      "Parameters: { \"use_label_encoder\" } are not used.\n",
      "\n",
      "  warnings.warn(smsg, UserWarning)\n",
      "c:\\Users\\Anton\\anaconda3\\envs\\traffic_noise\\lib\\site-packages\\xgboost\\core.py:158: UserWarning: [17:51:28] WARNING: D:\\bld\\xgboost-split_1724807710452\\work\\src\\learner.cc:740: \n",
      "Parameters: { \"use_label_encoder\" } are not used.\n",
      "\n",
      "  warnings.warn(smsg, UserWarning)\n",
      "c:\\Users\\Anton\\anaconda3\\envs\\traffic_noise\\lib\\site-packages\\xgboost\\core.py:158: UserWarning: [17:51:28] WARNING: D:\\bld\\xgboost-split_1724807710452\\work\\src\\learner.cc:740: \n",
      "Parameters: { \"use_label_encoder\" } are not used.\n",
      "\n",
      "  warnings.warn(smsg, UserWarning)\n",
      "c:\\Users\\Anton\\anaconda3\\envs\\traffic_noise\\lib\\site-packages\\xgboost\\core.py:158: UserWarning: [17:51:29] WARNING: D:\\bld\\xgboost-split_1724807710452\\work\\src\\learner.cc:740: \n",
      "Parameters: { \"use_label_encoder\" } are not used.\n",
      "\n",
      "  warnings.warn(smsg, UserWarning)\n",
      "c:\\Users\\Anton\\anaconda3\\envs\\traffic_noise\\lib\\site-packages\\xgboost\\core.py:158: UserWarning: [17:51:29] WARNING: D:\\bld\\xgboost-split_1724807710452\\work\\src\\learner.cc:740: \n",
      "Parameters: { \"use_label_encoder\" } are not used.\n",
      "\n",
      "  warnings.warn(smsg, UserWarning)\n",
      "c:\\Users\\Anton\\anaconda3\\envs\\traffic_noise\\lib\\site-packages\\xgboost\\core.py:158: UserWarning: [17:51:29] WARNING: D:\\bld\\xgboost-split_1724807710452\\work\\src\\learner.cc:740: \n",
      "Parameters: { \"use_label_encoder\" } are not used.\n",
      "\n",
      "  warnings.warn(smsg, UserWarning)\n"
     ]
    },
    {
     "name": "stdout",
     "output_type": "stream",
     "text": [
      "Cross-Validation Accuracy Scores: [0.92906178 0.91914569 0.91603053 0.91984733 0.91526718]\n",
      "Mean CV Accuracy: 0.9198705026755404\n",
      "\n",
      "Testdaten-Auswertung:\n",
      "              precision    recall  f1-score   support\n",
      "\n",
      "           A       0.92      0.95      0.93      1642\n",
      "           M       0.92      0.89      0.90      1167\n",
      "\n",
      "    accuracy                           0.92      2809\n",
      "   macro avg       0.92      0.92      0.92      2809\n",
      "weighted avg       0.92      0.92      0.92      2809\n",
      "\n",
      "\n",
      "Confusion Matrix:\n",
      " [[1554   88]\n",
      " [ 130 1037]]\n"
     ]
    }
   ],
   "source": [
    "pipeline = Pipeline([\n",
    "    ('scaler', StandardScaler()),  # Schritt 1: Standardisierung\n",
    "    ('classifier', XGBClassifier(  # Schritt 2: XGBoost\n",
    "        colsample_bytree=1.0,       # Anteil der Spalten pro Baum\n",
    "        gamma=0.2,                  # Mindestverlustreduktion, um einen Split zu machen\n",
    "        learning_rate=0.2,          # Lernrate\n",
    "        max_depth=5,                # Maximale Tiefe der Bäume\n",
    "        n_estimators=100,           # Anzahl der Bäume\n",
    "        subsample=0.8,              # Anteil der Stichprobe für jeden Baum\n",
    "        use_label_encoder=False,    # Vermeidet Label-Encoding-Warnungen\n",
    "        eval_metric='logloss',      # Verwendetes Evaluierungsmaß\n",
    "        random_state=42             # Reproduzierbarkeit\n",
    "    ))  \n",
    "])\n",
    "\n",
    "# Cross-Validation auf den Trainingsdaten\n",
    "cv_scores = cross_val_score(pipeline, X_train_improved, y_train_improved, cv=5, scoring='accuracy')\n",
    "\n",
    "# Pipeline trainieren auf dem gesamten Training-Set\n",
    "pipeline.fit(X_train_improved, y_train_improved)\n",
    "\n",
    "# Vorhersagen auf den Testdaten\n",
    "y_pred_improved = pipeline.predict(X_test_improved)\n",
    "\n",
    "# Ergebnisse ausgeben\n",
    "target_names = ['A', 'M']\n",
    "print(\"Cross-Validation Accuracy Scores:\", cv_scores)\n",
    "print(\"Mean CV Accuracy:\", np.mean(cv_scores))\n",
    "print(\"\\nTestdaten-Auswertung:\")\n",
    "print(classification_report(y_test_improved, y_pred_improved, target_names= target_names))\n",
    "print(\"\\nConfusion Matrix:\\n\", confusion_matrix(y_test_improved, y_pred_improved))"
   ]
  }
 ],
 "metadata": {
  "kernelspec": {
   "display_name": "traffic_noise",
   "language": "python",
   "name": "traffic_noise"
  },
  "language_info": {
   "codemirror_mode": {
    "name": "ipython",
    "version": 3
   },
   "file_extension": ".py",
   "mimetype": "text/x-python",
   "name": "python",
   "nbconvert_exporter": "python",
   "pygments_lexer": "ipython3",
   "version": "3.8.20"
  }
 },
 "nbformat": 4,
 "nbformat_minor": 2
}
