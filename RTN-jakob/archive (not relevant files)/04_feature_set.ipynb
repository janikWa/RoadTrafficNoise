{
 "cells": [
  {
   "cell_type": "markdown",
   "metadata": {},
   "source": [
    "# Generating the feature_set.csv"
   ]
  },
  {
   "cell_type": "code",
   "execution_count": 1,
   "metadata": {},
   "outputs": [],
   "source": [
    "import pandas as pd\n",
    "\n",
    "# Load the datasets\n",
    "df_dataset = pd.read_excel('df_dataset.xlsx')\n",
    "df_mfcc = pd.read_csv('mfcc_features_scipy.csv')\n",
    "df_octave = pd.read_csv('octave_band_analysis_results.csv')\n",
    "\n",
    "# Merge the datasets on the \"file\" column\n",
    "merged_df = df_dataset.merge(df_mfcc, on='file').merge(df_octave, on='file')\n",
    "\n",
    "# Save the merged dataframe to a CSV file\n",
    "merged_df.to_csv('feature_set.csv', index=False)"
   ]
  }
 ],
 "metadata": {
  "kernelspec": {
   "display_name": "seminar2024",
   "language": "python",
   "name": "python3"
  },
  "language_info": {
   "codemirror_mode": {
    "name": "ipython",
    "version": 3
   },
   "file_extension": ".py",
   "mimetype": "text/x-python",
   "name": "python",
   "nbconvert_exporter": "python",
   "pygments_lexer": "ipython3",
   "version": "3.11.8"
  }
 },
 "nbformat": 4,
 "nbformat_minor": 2
}
