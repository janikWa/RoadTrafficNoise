{
 "cells": [
  {
   "cell_type": "markdown",
   "metadata": {},
   "source": [
    "# Short-Time Fourier Transform"
   ]
  },
  {
   "cell_type": "code",
   "execution_count": null,
   "metadata": {},
   "outputs": [
    {
     "name": "stderr",
     "output_type": "stream",
     "text": [
      "/var/folders/vh/1t1ywg4n4fq7xwpclrv4jdyc0000gn/T/ipykernel_21567/4190772875.py:24: RuntimeWarning: invalid value encountered in divide\n",
      "  spectral_centroid = np.sum(frequencies[:, None] * magnitude, axis=0) / np.sum(magnitude, axis=0)\n"
     ]
    },
    {
     "name": "stdout",
     "output_type": "stream",
     "text": [
      "Features saved to: /Users/jakob/Library/CloudStorage/OneDrive-student.kit.edu/Studium/02_Master/4. Semester/seminar/RTN-jakob/df_stft.xlsx\n"
     ]
    }
   ],
   "source": [
    "import os\n",
    "import numpy as np\n",
    "from scipy.io import wavfile\n",
    "\n",
    "def preprocess_audio_scipy(file_path, output_directory, target_sample_rate=22000, target_duration=2.0):\n",
    "    \"\"\"\n",
    "    Preprocess audio using SciPy: convert to mono, downsample, trim/pad to 2 seconds, and normalize.\n",
    "    Args:\n",
    "        file_path (str): Path to the input audio file.\n",
    "        output_directory (str): Directory to save the preprocessed file.\n",
    "        target_sample_rate (int): Desired sampling rate for the audio.\n",
    "        target_duration (float): Target duration in seconds.\n",
    "    \"\"\"\n",
    "    # Load the audio file\n",
    "    sample_rate, data = wavfile.read(file_path)\n",
    "\n",
    "    # Convert to mono if stereo\n",
    "    if len(data.shape) == 2:\n",
    "        data = np.mean(data, axis=1).astype(data.dtype)\n",
    "\n",
    "    # Downsample to the target sample rate\n",
    "    if sample_rate != target_sample_rate:\n",
    "        num_samples = int(len(data) * target_sample_rate / sample_rate)\n",
    "        data = np.interp(\n",
    "            np.linspace(0, len(data), num_samples, endpoint=False),\n",
    "            np.arange(len(data)),\n",
    "            data\n",
    "        )\n",
    "        sample_rate = target_sample_rate\n",
    "\n",
    "    # Trim or pad the audio to the target duration\n",
    "    target_length = int(sample_rate * target_duration)\n",
    "    if len(data) > target_length:\n",
    "        data = data[:target_length]\n",
    "    elif len(data) < target_length:\n",
    "        data = np.pad(data, (0, target_length - len(data)), mode='constant')\n",
    "\n",
    "    # Normalize to zero mean and unit variance\n",
    "    mean = np.mean(data)\n",
    "    std = np.std(data)\n",
    "    if std > 0:\n",
    "        data = (data - mean) / std\n",
    "\n",
    "    # Save the preprocessed file\n",
    "    os.makedirs(output_directory, exist_ok=True)\n",
    "    output_file = os.path.join(output_directory, os.path.basename(file_path))\n",
    "    wavfile.write(output_file, sample_rate, data.astype(np.float32))\n",
    "    print(f\"Saved preprocessed file to: {output_file}\")\n",
    "\n",
    "def process_dataset_scipy(input_directory, output_directory):\n",
    "    \"\"\"\n",
    "    Process all audio files in a directory using SciPy.\n",
    "    Args:\n",
    "        input_directory (str): Directory containing the original audio files.\n",
    "        output_directory (str): Directory to save preprocessed files.\n",
    "    \"\"\"\n",
    "    for file_name in os.listdir(input_directory):\n",
    "        if file_name.endswith(\".wav\"):\n",
    "            file_path = os.path.join(input_directory, file_name)\n",
    "            preprocess_audio_scipy(file_path, output_directory)\n",
    "\n",
    "# Define input and output directories\n",
    "input_directory = \"/Users/jakob/Downloads/IDMT_Traffic/audio\"\n",
    "output_directory = \"/Users/jakob/Downloads/IDMT_Traffic/preprocessed_audio\"\n",
    "\n",
    "# Process the dataset\n",
    "process_dataset_scipy(input_directory, output_directory)"
   ]
  },
  {
   "cell_type": "markdown",
   "metadata": {},
   "source": [
    "# Extract features to XLSX"
   ]
  },
  {
   "cell_type": "code",
   "execution_count": 10,
   "metadata": {},
   "outputs": [
    {
     "name": "stderr",
     "output_type": "stream",
     "text": [
      "/var/folders/vh/1t1ywg4n4fq7xwpclrv4jdyc0000gn/T/ipykernel_21567/3167945768.py:24: RuntimeWarning: invalid value encountered in divide\n",
      "  spectral_centroid = np.sum(frequencies[:, None] * magnitude, axis=0) / np.sum(magnitude, axis=0)\n"
     ]
    },
    {
     "name": "stdout",
     "output_type": "stream",
     "text": [
      "Features saved to: /Users/jakob/Library/CloudStorage/OneDrive-student.kit.edu/Studium/02_Master/4. Semester/seminar/RTN-jakob/df_stft.xlsx\n"
     ]
    }
   ],
   "source": [
    "import os\n",
    "import numpy as np\n",
    "import pandas as pd\n",
    "from scipy.io import wavfile\n",
    "from scipy.signal import stft\n",
    "\n",
    "def extract_features(file_path):\n",
    "    \"\"\"\n",
    "    Extract audio features from a preprocessed WAV file.\n",
    "    Args:\n",
    "        file_path (str): Path to the audio file.\n",
    "    Returns:\n",
    "        dict: Extracted features.\n",
    "    \"\"\"\n",
    "    # Load the preprocessed audio file\n",
    "    sample_rate, data = wavfile.read(file_path)\n",
    "\n",
    "    # Compute RMS amplitude\n",
    "    rms = np.sqrt(np.mean(data**2))\n",
    "\n",
    "    # Compute spectral centroid\n",
    "    frequencies, times, Zxx = stft(data, fs=sample_rate, nperseg=512)\n",
    "    magnitude = np.abs(Zxx)\n",
    "    spectral_centroid = np.sum(frequencies[:, None] * magnitude, axis=0) / np.sum(magnitude, axis=0)\n",
    "    mean_spectral_centroid = np.mean(spectral_centroid)\n",
    "\n",
    "    # Compute energy in frequency bands\n",
    "    low_energy = np.sum(magnitude[frequencies < 300])\n",
    "    mid_energy = np.sum(magnitude[(frequencies >= 300) & (frequencies < 2000)])\n",
    "    high_energy = np.sum(magnitude[frequencies >= 2000])\n",
    "\n",
    "    # Strip .wav extension from file name\n",
    "    file_name = os.path.basename(file_path).replace('.wav', '')\n",
    "\n",
    "    # Return extracted features\n",
    "    return {\n",
    "        \"file\": file_name,  # Stripped of .wav\n",
    "        \"rms\": rms,\n",
    "        \"spectral_centroid\": mean_spectral_centroid,\n",
    "        \"low_energy\": low_energy,\n",
    "        \"mid_energy\": mid_energy,\n",
    "        \"high_energy\": high_energy,\n",
    "    }\n",
    "\n",
    "def process_features(input_directory, output_file):\n",
    "    \"\"\"\n",
    "    Process all audio files in a directory to extract features and save to Excel.\n",
    "    Args:\n",
    "        input_directory (str): Directory containing preprocessed audio files.\n",
    "        output_file (str): Path to save the extracted features as an Excel file.\n",
    "    \"\"\"\n",
    "    feature_list = []\n",
    "    for file_name in os.listdir(input_directory):\n",
    "        if file_name.endswith(\".wav\"):\n",
    "            file_path = os.path.join(input_directory, file_name)\n",
    "            features = extract_features(file_path)\n",
    "            feature_list.append(features)\n",
    "    \n",
    "    # Convert to DataFrame and save to Excel\n",
    "    df_features = pd.DataFrame(feature_list)\n",
    "    df_features.to_excel(output_file, index=False)\n",
    "    print(f\"Features saved to: {output_file}\")\n",
    "\n",
    "# Define input and output paths\n",
    "input_directory = \"/Users/jakob/Downloads/IDMT_Traffic/preprocessed_audio\"\n",
    "output_file = \"/Users/jakob/Library/CloudStorage/OneDrive-student.kit.edu/Studium/02_Master/4. Semester/seminar/RTN-jakob/df_stft.xlsx\"\n",
    "\n",
    "# Process and save features\n",
    "process_features(input_directory, output_file)"
   ]
  },
  {
   "cell_type": "markdown",
   "metadata": {},
   "source": [
    "# Merge df_stft.xlsx with df_dataset.xlsx"
   ]
  },
  {
   "cell_type": "code",
   "execution_count": 1,
   "metadata": {},
   "outputs": [
    {
     "name": "stdout",
     "output_type": "stream",
     "text": [
      "Merged dataset saved as df_dataset_merged.xlsx\n"
     ]
    }
   ],
   "source": [
    "import pandas as pd\n",
    "\n",
    "# Load datasets\n",
    "df_dataset = pd.read_excel(\"df_dataset.xlsx\")\n",
    "df_stft = pd.read_excel(\"df_stft.xlsx\")\n",
    "\n",
    "# Merge datasets on 'file' column (left join to retain all rows in df_dataset)\n",
    "df_merged = pd.merge(df_dataset, df_stft, on=\"file\", how=\"left\")\n",
    "\n",
    "# Save the merged dataset\n",
    "df_merged.to_excel(\"df_dataset_merged.xlsx\", index=False)\n",
    "print(\"Merged dataset saved as df_dataset_merged.xlsx\")"
   ]
  }
 ],
 "metadata": {
  "kernelspec": {
   "display_name": "aiss2024",
   "language": "python",
   "name": "python3"
  },
  "language_info": {
   "codemirror_mode": {
    "name": "ipython",
    "version": 3
   },
   "file_extension": ".py",
   "mimetype": "text/x-python",
   "name": "python",
   "nbconvert_exporter": "python",
   "pygments_lexer": "ipython3",
   "version": "3.11.10"
  }
 },
 "nbformat": 4,
 "nbformat_minor": 2
}
