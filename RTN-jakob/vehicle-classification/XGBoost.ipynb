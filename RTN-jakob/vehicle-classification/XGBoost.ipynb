{
 "cells": [
  {
   "cell_type": "markdown",
   "metadata": {},
   "source": [
    "# Vehicle Type Classification with **XGBoost**"
   ]
  },
  {
   "cell_type": "code",
   "execution_count": 12,
   "metadata": {},
   "outputs": [],
   "source": [
    "import pandas as pd\n",
    "\n",
    "# Load the dataset\n",
    "file_path = \"/Users/jakob/Library/CloudStorage/OneDrive-student.kit.edu/Studium/02_Master/4. Semester/seminar/RoadTrafficNoise/IDMT-Traffic/datasets/df_main_encoded_only.csv\"\n",
    "\n",
    "# Load the dataset\n",
    "df_vehicle_classification = pd.read_csv(file_path)"
   ]
  },
  {
   "cell_type": "code",
   "execution_count": 13,
   "metadata": {},
   "outputs": [
    {
     "name": "stdout",
     "output_type": "stream",
     "text": [
      "Classification Report on test set:\n",
      "              precision    recall  f1-score   support\n",
      "\n",
      "           0       0.87      0.62      0.72        21\n",
      "           1       0.91      0.98      0.94      1561\n",
      "           2       0.94      0.93      0.94        86\n",
      "           3       0.67      0.27      0.39       205\n",
      "\n",
      "    accuracy                           0.90      1873\n",
      "   macro avg       0.85      0.70      0.75      1873\n",
      "weighted avg       0.88      0.90      0.88      1873\n",
      "\n"
     ]
    }
   ],
   "source": [
    "import pandas as pd\n",
    "from sklearn.model_selection import train_test_split\n",
    "from sklearn.metrics import classification_report\n",
    "from xgboost import XGBClassifier\n",
    "\n",
    "# Extract features and target\n",
    "#X = df_vehicle_classification.drop(columns=['file', 'vehicle_encoded', 'is_background_encoded', 'date_time_encoded'])  # Drop \"file\" and \"vehicle_encoded\"\n",
    "X = df_vehicle_classification.drop(columns=df_vehicle_classification.loc[:, :'channel_encoded'].columns) # only keep sound features\n",
    "y = df_vehicle_classification['vehicle_encoded']\n",
    "\n",
    "# Split data into train and test sets\n",
    "X_train, X_test, y_train, y_test = train_test_split(X, y, test_size=0.2, random_state=42, stratify=y)\n",
    "\n",
    "# Initialize and train the XGBoost classifier\n",
    "xgb_clf = XGBClassifier(eval_metric='mlogloss', random_state=42)\n",
    "xgb_clf.fit(X_train, y_train)\n",
    "\n",
    "# Make predictions\n",
    "y_pred = xgb_clf.predict(X_test)\n",
    "\n",
    "# Evaluate the model\n",
    "print(\"Classification Report on test set:\")\n",
    "print(classification_report(y_test, y_pred))"
   ]
  },
  {
   "cell_type": "code",
   "execution_count": 14,
   "metadata": {},
   "outputs": [
    {
     "name": "stdout",
     "output_type": "stream",
     "text": [
      "mfcc_3             0.097257\n",
      "band_18_dB         0.056902\n",
      "peak_freq_1        0.056064\n",
      "band_26_dB         0.055829\n",
      "band_19_dB         0.045221\n",
      "band_3_dB          0.030636\n",
      "band_4_dB          0.026614\n",
      "octband_dB_mean    0.026291\n",
      "mfcc_9             0.022527\n",
      "mfcc_5             0.021532\n",
      "band_27_dB         0.021077\n",
      "band_20_dB         0.020969\n",
      "band_28_dB         0.020612\n",
      "band_1_dB          0.019877\n",
      "band_9_dB          0.019482\n",
      "mfcc_8             0.018983\n",
      "band_2_dB          0.018804\n",
      "band_25_dB         0.017604\n",
      "band_22_dB         0.017254\n",
      "mfcc_7             0.016700\n",
      "band_12_dB         0.016129\n",
      "mfcc_10            0.015981\n",
      "peak_freq_2        0.015852\n",
      "peak_dB_3          0.015821\n",
      "peak_dB_2          0.015509\n",
      "mfcc_13            0.014579\n",
      "band_16_dB         0.014412\n",
      "band_13_dB         0.014314\n",
      "band_11_dB         0.014163\n",
      "band_29_dB         0.014056\n",
      "band_5_dB          0.014000\n",
      "band_6_dB          0.013925\n",
      "band_15_dB         0.013421\n",
      "band_17_dB         0.013389\n",
      "band_24_dB         0.013310\n",
      "mfcc_11            0.012951\n",
      "band_21_dB         0.012697\n",
      "mfcc_12            0.012597\n",
      "band_14_dB         0.012223\n",
      "mfcc_4             0.011531\n",
      "mfcc_2             0.011328\n",
      "mfcc_1             0.010943\n",
      "mfcc_6             0.010868\n",
      "band_8_dB          0.009762\n",
      "band_10_dB         0.009694\n",
      "band_7_dB          0.009447\n",
      "peak_dB_1          0.009404\n",
      "peak_freq_3        0.009054\n",
      "band_23_dB         0.008404\n",
      "dtype: float32\n"
     ]
    }
   ],
   "source": [
    "import pandas as pd\n",
    "\n",
    "# Extract feature importances from the trained XGBoost model\n",
    "feature_importances = pd.Series(xgb_clf.feature_importances_, index=X.columns)\n",
    "\n",
    "# Sort the feature importances in descending order\n",
    "sorted_importances = feature_importances.sort_values(ascending=False)\n",
    "\n",
    "# Print the sorted feature importances\n",
    "print(sorted_importances)"
   ]
  },
  {
   "cell_type": "markdown",
   "metadata": {},
   "source": [
    "Key Observations:\n",
    "\n",
    "    Class 1 Dominance:\n",
    "        Class 1 has the highest support (1561 samples), and the model performs very well on it with a high F1-score (0.95).\n",
    "        This may indicate that the model is biased towards this class due to its prevalence in the dataset.\n",
    "\n",
    "    Poor Performance on Class 3:\n",
    "        Class 3 has a relatively lower recall (0.36) and F1-score (0.47), indicating that the model struggles to correctly identify samples of this class.\n",
    "        This could be due to insufficient data for this class or features that do not distinguish it well from others.\n",
    "\n",
    "    Macro Average vs. Weighted Average:\n",
    "        The macro average shows the model's performance across all classes equally (unweighted), which is lower (F1-score: 0.79) due to poor performance on minority classes.\n",
    "        The weighted average is higher (F1-score: 0.90), influenced by the dominance of Class 1."
   ]
  },
  {
   "cell_type": "code",
   "execution_count": 11,
   "metadata": {},
   "outputs": [
    {
     "ename": "NameError",
     "evalue": "name 'features' is not defined",
     "output_type": "error",
     "traceback": [
      "\u001b[0;31m---------------------------------------------------------------------------\u001b[0m",
      "\u001b[0;31mNameError\u001b[0m                                 Traceback (most recent call last)",
      "Cell \u001b[0;32mIn[11], line 9\u001b[0m\n\u001b[1;32m      6\u001b[0m \u001b[38;5;28;01mfrom\u001b[39;00m \u001b[38;5;21;01mxgboost\u001b[39;00m \u001b[38;5;28;01mimport\u001b[39;00m XGBClassifier, DMatrix\n\u001b[1;32m      8\u001b[0m \u001b[38;5;66;03m# Extract features and target\u001b[39;00m\n\u001b[0;32m----> 9\u001b[0m X \u001b[38;5;241m=\u001b[39m df[\u001b[43mfeatures\u001b[49m]\n\u001b[1;32m     10\u001b[0m y \u001b[38;5;241m=\u001b[39m df[\u001b[38;5;124m'\u001b[39m\u001b[38;5;124mvehicle\u001b[39m\u001b[38;5;124m'\u001b[39m]\n\u001b[1;32m     12\u001b[0m \u001b[38;5;66;03m# Split data into train and test sets\u001b[39;00m\n",
      "\u001b[0;31mNameError\u001b[0m: name 'features' is not defined"
     ]
    }
   ],
   "source": [
    "import pandas as pd\n",
    "import numpy as np\n",
    "from sklearn.model_selection import train_test_split, GridSearchCV\n",
    "from sklearn.pipeline import Pipeline\n",
    "from sklearn.metrics import classification_report\n",
    "from xgboost import XGBClassifier, DMatrix\n",
    "\n",
    "# Extract features and target\n",
    "X = df[features]\n",
    "y = df['vehicle']\n",
    "\n",
    "# Split data into train and test sets\n",
    "X_train, X_test, y_train, y_test = train_test_split(X, y, test_size=0.2, random_state=42, stratify=y)\n",
    "\n",
    "# Define the pipeline\n",
    "pipeline = Pipeline([\n",
    "    ('xgb', XGBClassifier(eval_metric='mlogloss'))  # Multiclass support\n",
    "])\n",
    "\n",
    "# Define a smaller parameter grid for GridSearchCV\n",
    "param_grid = {\n",
    "    'xgb__n_estimators': [100],             # Number of boosting rounds\n",
    "    'xgb__learning_rate': [0.1, 0.3],       # Learning rate (eta)\n",
    "    'xgb__max_depth': [3],                  # Maximum depth of trees\n",
    "    'xgb__gamma': [0, 1],                   # Minimum loss reduction to split\n",
    "    'xgb__reg_alpha': [0, 0.1],             # L1 regularization term\n",
    "    'xgb__reg_lambda': [1, 1.5]             # L2 regularization term\n",
    "}\n",
    "\n",
    "# Set up GridSearchCV\n",
    "grid_search = GridSearchCV(\n",
    "    pipeline,\n",
    "    param_grid,\n",
    "    cv=5,                 # 5-fold cross-validation\n",
    "    scoring='f1_macro',   # Optimize for macro F1 score for multiclass\n",
    "    verbose=1,\n",
    "    n_jobs=-1             # Use all available CPUs\n",
    ")\n",
    "\n",
    "# Perform Grid Search\n",
    "grid_search.fit(X_train, y_train)\n",
    "\n",
    "# Get the best parameters and model\n",
    "best_model = grid_search.best_estimator_\n",
    "print(\"Best Parameters:\", grid_search.best_params_)\n",
    "\n",
    "# Evaluate the model on the test set\n",
    "y_pred = best_model.predict(X_test)\n",
    "print(\"Classification Report:\")\n",
    "print(classification_report(y_test, y_pred, target_names=label_mapping.values()))\n",
    "\n",
    "# Save the label mapping\n",
    "print(\"Label Mapping (Numeric to Vehicle):\")\n",
    "print(label_mapping)"
   ]
  }
 ],
 "metadata": {
  "kernelspec": {
   "display_name": "seminar2024",
   "language": "python",
   "name": "python3"
  },
  "language_info": {
   "codemirror_mode": {
    "name": "ipython",
    "version": 3
   },
   "file_extension": ".py",
   "mimetype": "text/x-python",
   "name": "python",
   "nbconvert_exporter": "python",
   "pygments_lexer": "ipython3",
   "version": "3.11.8"
  }
 },
 "nbformat": 4,
 "nbformat_minor": 2
}
