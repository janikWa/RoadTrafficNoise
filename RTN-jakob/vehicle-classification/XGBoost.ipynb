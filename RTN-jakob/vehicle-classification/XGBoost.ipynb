{
 "cells": [
  {
   "cell_type": "markdown",
   "metadata": {},
   "source": [
    "# Vehicle Type Classification with **XGBoost**"
   ]
  },
  {
   "cell_type": "code",
   "execution_count": 21,
   "metadata": {},
   "outputs": [
    {
     "name": "stdout",
     "output_type": "stream",
     "text": [
      "   Unnamed: 0                                               file  \\\n",
      "0          18  2019-10-22-08-40_Fraunhofer-IDMT_30Kmh_1116695...   \n",
      "1          19  2019-10-22-08-40_Fraunhofer-IDMT_30Kmh_1116695...   \n",
      "2          20  2019-10-22-08-40_Fraunhofer-IDMT_30Kmh_1137602...   \n",
      "3          21  2019-10-22-08-40_Fraunhofer-IDMT_30Kmh_1137602...   \n",
      "4          24  2019-10-22-08-40_Fraunhofer-IDMT_30Kmh_1141442...   \n",
      "\n",
      "   is_background_encoded  date_time_encoded  location_encoded  \\\n",
      "0                      0                  0                 0   \n",
      "1                      0                  0                 0   \n",
      "2                      0                  0                 0   \n",
      "3                      0                  0                 0   \n",
      "4                      0                  0                 0   \n",
      "\n",
      "   speed_kmh_encoded  daytime_encoded  weather_encoded  vehicle_encoded  \\\n",
      "0                  0                1                0                1   \n",
      "1                  0                1                0                1   \n",
      "2                  0                1                0                1   \n",
      "3                  0                1                0                1   \n",
      "4                  0                1                0                1   \n",
      "\n",
      "   source_direction_encoded  ...  band_27_dB  band_28_dB  band_29_dB  \\\n",
      "0                         1  ...   37.024301   38.508511   35.946349   \n",
      "1                         1  ...   34.516289   34.960402   33.187933   \n",
      "2                         0  ...   34.301766   35.702020   34.950520   \n",
      "3                         0  ...   31.301576   31.334765   30.408173   \n",
      "4                         1  ...   40.567415   38.043502   35.447408   \n",
      "\n",
      "   peak_dB_1  peak_freq_1  peak_dB_2  peak_freq_2  peak_dB_3  peak_freq_3  \\\n",
      "0  50.180933    31.622777  49.528332  1000.000000  47.901831   794.328235   \n",
      "1  54.903541  1000.000000  53.196406   794.328235  51.942355   501.187234   \n",
      "2  49.809110    50.118723  49.794150    31.622777  48.475774    25.118864   \n",
      "3  49.366333   316.227766  48.946496  1000.000000  48.520466   794.328235   \n",
      "4  57.005806    31.622777  52.256539    50.118723  47.988936    39.810717   \n",
      "\n",
      "   octband_dB_mean  \n",
      "0        42.383307  \n",
      "1        42.050454  \n",
      "2        40.070219  \n",
      "3        37.706544  \n",
      "4        42.964901  \n",
      "\n",
      "[5 rows x 61 columns]\n"
     ]
    }
   ],
   "source": [
    "import pandas as pd\n",
    "from sklearn.model_selection import train_test_split\n",
    "from sklearn.metrics import classification_report\n",
    "from xgboost import XGBClassifier\n",
    "\n",
    "# Load the dataset\n",
    "file_path = \"/Users/jakob/Library/CloudStorage/OneDrive-student.kit.edu/Studium/02_Master/4. Semester/seminar/RoadTrafficNoise/IDMT-Traffic/datasets/df_main_encoded_only.csv\"\n",
    "\n",
    "# Load the dataset\n",
    "df_vehicle_classification = pd.read_csv(file_path)\n",
    "\n",
    "print(df_vehicle_classification.head())"
   ]
  },
  {
   "cell_type": "markdown",
   "metadata": {},
   "source": [
    "All features used"
   ]
  },
  {
   "cell_type": "code",
   "execution_count": null,
   "metadata": {},
   "outputs": [
    {
     "name": "stdout",
     "output_type": "stream",
     "text": [
      "Classification Report on test set:\n",
      "              precision    recall  f1-score   support\n",
      "\n",
      "           0       0.82      0.67      0.74        21\n",
      "           1       0.92      0.98      0.95      1561\n",
      "           2       1.00      0.99      0.99        86\n",
      "           3       0.71      0.36      0.47       205\n",
      "\n",
      "    accuracy                           0.91      1873\n",
      "   macro avg       0.86      0.75      0.79      1873\n",
      "weighted avg       0.90      0.91      0.90      1873\n",
      "\n"
     ]
    }
   ],
   "source": [
    "# Extract features and target\n",
    "# Drop \"vehicle_encoded\" as it is the target feature. Drop 'file' as it contains all metadata and 'is_background_encoded' as it is unnecessary (always 0)\n",
    "X = df_vehicle_classification.drop(columns=['file', 'vehicle_encoded', 'is_background_encoded'])\n",
    "y = df_vehicle_classification['vehicle_encoded']\n",
    "\n",
    "# Split data into train and test sets\n",
    "X_train, X_test, y_train, y_test = train_test_split(X, y, test_size=0.2, random_state=42, stratify=y)\n",
    "\n",
    "# Initialize and train the XGBoost classifier\n",
    "xgb_clf = XGBClassifier(eval_metric='mlogloss', random_state=42)\n",
    "xgb_clf.fit(X_train, y_train)\n",
    "\n",
    "# Make predictions\n",
    "y_pred = xgb_clf.predict(X_test)\n",
    "\n",
    "# Evaluate the model\n",
    "print(\"Classification Report on test set:\")\n",
    "print(classification_report(y_test, y_pred))"
   ]
  },
  {
   "cell_type": "code",
   "execution_count": 13,
   "metadata": {},
   "outputs": [
    {
     "name": "stdout",
     "output_type": "stream",
     "text": [
      "date_time_encoded           0.346342\n",
      "microphone_encoded          0.101849\n",
      "location_encoded            0.053933\n",
      "channel_encoded             0.037486\n",
      "band_18_dB                  0.030475\n",
      "band_19_dB                  0.027688\n",
      "weather_encoded             0.015317\n",
      "daytime_encoded             0.015200\n",
      "speed_kmh_encoded           0.015175\n",
      "mfcc_3                      0.014565\n",
      "band_4_dB                   0.014536\n",
      "band_3_dB                   0.013296\n",
      "peak_freq_1                 0.012684\n",
      "band_1_dB                   0.010888\n",
      "source_direction_encoded    0.010257\n",
      "mfcc_5                      0.010189\n",
      "mfcc_9                      0.009954\n",
      "band_17_dB                  0.009464\n",
      "band_20_dB                  0.009459\n",
      "band_25_dB                  0.009026\n",
      "Unnamed: 0                  0.008626\n",
      "octband_dB_mean             0.008384\n",
      "band_2_dB                   0.008218\n",
      "band_12_dB                  0.007728\n",
      "band_27_dB                  0.007589\n",
      "band_13_dB                  0.007556\n",
      "peak_dB_2                   0.007320\n",
      "band_9_dB                   0.006953\n",
      "band_29_dB                  0.006848\n",
      "band_5_dB                   0.006771\n",
      "band_16_dB                  0.006769\n",
      "mfcc_7                      0.006713\n",
      "band_24_dB                  0.006665\n",
      "mfcc_2                      0.006559\n",
      "peak_freq_2                 0.006521\n",
      "peak_dB_1                   0.006483\n",
      "band_21_dB                  0.006465\n",
      "mfcc_13                     0.006360\n",
      "mfcc_10                     0.006357\n",
      "mfcc_1                      0.006252\n",
      "band_26_dB                  0.006145\n",
      "band_28_dB                  0.006025\n",
      "mfcc_11                     0.005918\n",
      "band_11_dB                  0.005902\n",
      "band_22_dB                  0.005765\n",
      "band_6_dB                   0.005556\n",
      "mfcc_4                      0.005314\n",
      "band_15_dB                  0.005210\n",
      "band_14_dB                  0.005077\n",
      "band_23_dB                  0.004981\n",
      "mfcc_12                     0.004698\n",
      "mfcc_6                      0.004608\n",
      "band_8_dB                   0.004458\n",
      "band_10_dB                  0.004406\n",
      "band_7_dB                   0.004386\n",
      "mfcc_8                      0.004324\n",
      "peak_dB_3                   0.004276\n",
      "peak_freq_3                 0.004035\n",
      "dtype: float32\n"
     ]
    }
   ],
   "source": [
    "# Extract feature importances from the trained XGBoost model\n",
    "feature_importances = pd.Series(xgb_clf.feature_importances_, index=X.columns)\n",
    "\n",
    "# Sort the feature importances in descending order\n",
    "sorted_importances = feature_importances.sort_values(ascending=False)\n",
    "\n",
    "# Print the sorted feature importances\n",
    "print(sorted_importances)"
   ]
  },
  {
   "cell_type": "markdown",
   "metadata": {},
   "source": [
    "We seems as if the feature date_time has a big influence on the classification. Maybe there is some data leakage. Let's do a plot to show the occurences of vehicle types at the 22 date_time entries:"
   ]
  },
  {
   "cell_type": "code",
   "execution_count": 23,
   "metadata": {},
   "outputs": [
    {
     "data": {
      "image/png": "[encoded data removed]",
      "text/plain": [
       "<Figure size 1400x1000 with 1 Axes>"
      ]
     },
     "metadata": {},
     "output_type": "display_data"
    }
   ],
   "source": [
    "import seaborn as sns\n",
    "import matplotlib.pyplot as plt\n",
    "\n",
    "# Group by `date_time_encoded` and `vehicle_encoded` to count occurrences\n",
    "grouped_data = df_vehicle_classification.groupby(['date_time_encoded', 'vehicle_encoded']).size().reset_index(name='count')\n",
    "\n",
    "# Normalize the counts within each `date_time_encoded` to calculate percentages\n",
    "grouped_data['percentage'] = grouped_data.groupby('date_time_encoded')['count'].transform(lambda x: x / x.sum() * 100)\n",
    "\n",
    "# Plot the data\n",
    "plt.figure(figsize=(14, 10))\n",
    "sns.barplot(data=grouped_data, x='date_time_encoded', y='percentage', hue='vehicle_encoded', palette='tab10')\n",
    "\n",
    "# Customize the plot\n",
    "plt.title('Distribution of Vehicle Encoded Across Date Time Encoded', fontsize=16)\n",
    "plt.xlabel('Date Time Encoded', fontsize=14)\n",
    "plt.ylabel('Percentage', fontsize=14)\n",
    "plt.legend(title='Vehicle Encoded', fontsize=12)\n",
    "plt.xticks(fontsize=12, rotation=45)  # Rotate for readability\n",
    "plt.yticks(fontsize=12)\n",
    "plt.tight_layout()\n",
    "plt.show()"
   ]
  },
  {
   "cell_type": "code",
   "execution_count": 38,
   "metadata": {},
   "outputs": [
    {
     "name": "stdout",
     "output_type": "stream",
     "text": [
      "vehicle_encoded           0          1           2          3\n",
      "date_time_encoded                                            \n",
      "0                  2.189781  95.620438    1.459854   0.729927\n",
      "1                  0.938967  98.122066    0.000000   0.938967\n",
      "2                  0.000000  88.000000    1.333333  10.666667\n",
      "3                  1.666667  90.833333    0.000000   7.500000\n",
      "4                  0.653595  94.771242    1.307190   3.267974\n",
      "5                  0.418410  83.682008    0.000000  15.899582\n",
      "6                  0.000000  86.046512    0.000000  13.953488\n",
      "7                  0.000000  88.211382    0.000000  11.788618\n",
      "8                  1.158301  85.714286    0.000000  13.127413\n",
      "9                  0.000000  89.108911    0.000000  10.891089\n",
      "10                 0.475059  84.085511    0.000000  15.439430\n",
      "11                 2.212389  89.823009    0.000000   7.964602\n",
      "12                 1.591512  85.941645    0.000000  12.466844\n",
      "13                 0.787402  77.952756    0.000000  21.259843\n",
      "14                 2.483070  87.358916    0.000000  10.158014\n",
      "15                 2.232143  86.160714    0.000000  11.607143\n",
      "16                 1.075269  90.681004    0.000000   8.243728\n",
      "17                 1.257862  87.735849    0.000000  11.006289\n",
      "18                 0.000000   0.000000  100.000000   0.000000\n",
      "19                 0.000000   0.000000  100.000000   0.000000\n",
      "20                 0.000000   0.000000  100.000000   0.000000\n",
      "21                 0.000000   0.000000  100.000000   0.000000\n",
      "22                 0.000000   0.000000  100.000000   0.000000\n"
     ]
    }
   ],
   "source": [
    "# Pivot table\n",
    "# Group by `date_time_encoded` and `vehicle_encoded` to count occurrences\n",
    "grouped_data = df_vehicle_classification.groupby(['date_time_encoded', 'vehicle_encoded']).size().reset_index(name='count')\n",
    "\n",
    "# Normalize the counts within each `date_time_encoded` to calculate percentages\n",
    "grouped_data['percentage'] = grouped_data.groupby('date_time_encoded')['count'].transform(lambda x: x / x.sum() * 100)\n",
    "\n",
    "# Pivot table to present numerical relationships\n",
    "pivot_table = grouped_data.pivot(index='date_time_encoded', columns='vehicle_encoded', values='percentage').fillna(0)\n",
    "\n",
    "# Print the pivot table\n",
    "print(pivot_table)"
   ]
  },
  {
   "cell_type": "markdown",
   "metadata": {},
   "source": [
    "For date_time 18-22 there is only vehicle type 2. Including date_time could lead to overfitting, we should perform cross validation to determine if we should drop date_time from the classification."
   ]
  },
  {
   "cell_type": "markdown",
   "metadata": {},
   "source": [
    "Speed_kmh is another feature, that has a weird distribution that could lead to overfitting:"
   ]
  },
  {
   "cell_type": "code",
   "execution_count": 25,
   "metadata": {},
   "outputs": [
    {
     "data": {
      "image/png": "[encoded data removed]",
      "text/plain": [
       "<Figure size 1400x1000 with 1 Axes>"
      ]
     },
     "metadata": {},
     "output_type": "display_data"
    }
   ],
   "source": [
    "import seaborn as sns\n",
    "import matplotlib.pyplot as plt\n",
    "\n",
    "# Group by `speed_kmh_encoded` and `vehicle_encoded` to count occurrences\n",
    "grouped_data = df_vehicle_classification.groupby(['speed_kmh_encoded', 'vehicle_encoded']).size().reset_index(name='count')\n",
    "\n",
    "# Normalize the counts within each `speed_kmh_encoded` to calculate percentages\n",
    "grouped_data['percentage'] = grouped_data.groupby('speed_kmh_encoded')['count'].transform(lambda x: x / x.sum() * 100)\n",
    "\n",
    "# Plot the data\n",
    "plt.figure(figsize=(14, 10))\n",
    "sns.barplot(data=grouped_data, x='speed_kmh_encoded', y='percentage', hue='vehicle_encoded', palette='tab10')\n",
    "\n",
    "# Customize the plot\n",
    "plt.title('Distribution of Vehicle Encoded Across speed_kmh Encoded', fontsize=16)\n",
    "plt.xlabel('Date Time Encoded', fontsize=14)\n",
    "plt.ylabel('Percentage', fontsize=14)\n",
    "plt.legend(title='Vehicle Encoded', fontsize=12)\n",
    "plt.xticks(fontsize=12, rotation=45)  # Rotate for readability\n",
    "plt.yticks(fontsize=12)\n",
    "plt.tight_layout()\n",
    "plt.show()"
   ]
  },
  {
   "cell_type": "markdown",
   "metadata": {},
   "source": [
    "This relationship is dataset-specific and not generalizable, so the model still could overfit to the training data. We can try to combat this by using L1-L2-regularization."
   ]
  },
  {
   "cell_type": "code",
   "execution_count": 26,
   "metadata": {},
   "outputs": [
    {
     "name": "stdout",
     "output_type": "stream",
     "text": [
      "Fitting 3 folds for each of 25 candidates, totalling 75 fits\n",
      "Best parameters: {'alpha': 5, 'lambda': 0.5}\n",
      "Best cross-validated accuracy: 0.9110576923076924\n",
      "\n",
      "Classification Report on the Test Set:\n",
      "              precision    recall  f1-score   support\n",
      "\n",
      "           0       0.87      0.62      0.72        21\n",
      "           1       0.93      0.98      0.95      1561\n",
      "           2       1.00      0.99      0.99        86\n",
      "           3       0.76      0.42      0.55       205\n",
      "\n",
      "    accuracy                           0.92      1873\n",
      "   macro avg       0.89      0.75      0.80      1873\n",
      "weighted avg       0.91      0.92      0.91      1873\n",
      "\n"
     ]
    }
   ],
   "source": [
    "from xgboost import XGBClassifier\n",
    "from sklearn.model_selection import train_test_split, GridSearchCV\n",
    "from sklearn.metrics import classification_report\n",
    "\n",
    "# Extract features and target\n",
    "X = df_vehicle_classification.drop(columns=['file', 'vehicle_encoded', 'is_background_encoded', 'Unnamed: 0', 'date_time_encoded'])\n",
    "y = df_vehicle_classification['vehicle_encoded']\n",
    "\n",
    "# Split data into train and test sets\n",
    "X_train, X_test, y_train, y_test = train_test_split(X, y, test_size=0.2, random_state=42, stratify=y)\n",
    "\n",
    "# Define the parameter grid for L1 and L2 regularization\n",
    "param_grid = {\n",
    "    'alpha': [0, 0.1, 0.5, 1, 5],       # L1 regularization\n",
    "    'lambda': [0.5, 1, 2, 5, 10]       # L2 regularization\n",
    "}\n",
    "\n",
    "# Initialize the XGBoost classifier\n",
    "xgb_clf = XGBClassifier(eval_metric='mlogloss', random_state=42)\n",
    "\n",
    "# Perform Grid Search with 3-fold cross-validation\n",
    "grid_search = GridSearchCV(\n",
    "    estimator=xgb_clf,\n",
    "    param_grid=param_grid,\n",
    "    scoring='accuracy',\n",
    "    cv=3,\n",
    "    verbose=1,\n",
    "    n_jobs=-1  # Use all available cores\n",
    ")\n",
    "\n",
    "# Fit the grid search on training data\n",
    "grid_search.fit(X_train, y_train)\n",
    "\n",
    "# Get the best parameters and score\n",
    "print(\"Best parameters:\", grid_search.best_params_)\n",
    "print(\"Best cross-validated accuracy:\", grid_search.best_score_)\n",
    "\n",
    "# Train the final model with the best parameters\n",
    "best_xgb_clf = grid_search.best_estimator_\n",
    "best_xgb_clf.fit(X_train, y_train)\n",
    "\n",
    "# Make predictions on the test set\n",
    "y_pred = best_xgb_clf.predict(X_test)\n",
    "\n",
    "# Evaluate the final model\n",
    "print(\"\\nClassification Report on the Test Set:\")\n",
    "print(classification_report(y_test, y_pred))"
   ]
  },
  {
   "cell_type": "markdown",
   "metadata": {},
   "source": [
    "The regularization has not been particularly successful in this case:\n",
    "1. It didn’t significantly improve the overall performance or generalization of the model.\n",
    "2. It slightly worsened performance for the minority class 0 while providing only a small improvement for Class 3.\n",
    "\n",
    "Next try: Don't include grid search for regularization, and instead focus on class imbalances using SMOTE:"
   ]
  },
  {
   "cell_type": "code",
   "execution_count": 27,
   "metadata": {},
   "outputs": [
    {
     "name": "stdout",
     "output_type": "stream",
     "text": [
      "Classification Report on test set:\n",
      "              precision    recall  f1-score   support\n",
      "\n",
      "           0       0.83      0.71      0.77        21\n",
      "           1       0.94      0.95      0.95      1561\n",
      "           2       1.00      0.99      0.99        86\n",
      "           3       0.58      0.56      0.57       205\n",
      "\n",
      "    accuracy                           0.90      1873\n",
      "   macro avg       0.84      0.80      0.82      1873\n",
      "weighted avg       0.90      0.90      0.90      1873\n",
      "\n"
     ]
    }
   ],
   "source": [
    "from xgboost import XGBClassifier\n",
    "from sklearn.model_selection import train_test_split\n",
    "from sklearn.metrics import classification_report\n",
    "from imblearn.over_sampling import SMOTE\n",
    "\n",
    "# Extract features and target\n",
    "X = df_vehicle_classification.drop(columns=['file', 'vehicle_encoded', 'is_background_encoded', 'Unnamed: 0', 'date_time_encoded'])\n",
    "y = df_vehicle_classification['vehicle_encoded']\n",
    "\n",
    "# Split data into train and test sets\n",
    "X_train, X_test, y_train, y_test = train_test_split(X, y, test_size=0.2, random_state=42, stratify=y)\n",
    "\n",
    "# Apply SMOTE to balance the training data\n",
    "smote = SMOTE(random_state=42)\n",
    "X_train_smote, y_train_smote = smote.fit_resample(X_train, y_train)\n",
    "\n",
    "# Initialize and train the XGBoost classifier\n",
    "xgb_clf = XGBClassifier(eval_metric='mlogloss', random_state=42)\n",
    "xgb_clf.fit(X_train_smote, y_train_smote)\n",
    "\n",
    "# Make predictions\n",
    "y_pred = xgb_clf.predict(X_test)\n",
    "\n",
    "# Evaluate the model\n",
    "print(\"Classification Report on test set:\")\n",
    "print(classification_report(y_test, y_pred))"
   ]
  },
  {
   "cell_type": "markdown",
   "metadata": {},
   "source": [
    "The SMOTE approach is successful in addressing class imbalance, particularly for Class 3, which sees significant recall improvement. The slight loss in precision and accuracy is acceptable given the tradeoff of better minority class coverage.\n",
    "\n",
    "How does it look with class weights instead of using SMOTE?"
   ]
  },
  {
   "cell_type": "code",
   "execution_count": 30,
   "metadata": {},
   "outputs": [
    {
     "name": "stdout",
     "output_type": "stream",
     "text": [
      "Classification Report on test set:\n",
      "              precision    recall  f1-score   support\n",
      "\n",
      "           0       0.82      0.86      0.84        21\n",
      "           1       0.94      0.97      0.95      1561\n",
      "           2       1.00      0.99      0.99        86\n",
      "           3       0.66      0.51      0.58       205\n",
      "\n",
      "    accuracy                           0.92      1873\n",
      "   macro avg       0.85      0.83      0.84      1873\n",
      "weighted avg       0.91      0.92      0.91      1873\n",
      "\n"
     ]
    }
   ],
   "source": [
    "from xgboost import XGBClassifier\n",
    "from sklearn.model_selection import train_test_split\n",
    "from sklearn.metrics import classification_report\n",
    "import numpy as np\n",
    "\n",
    "# Extract features and target\n",
    "X = df_vehicle_classification.drop(columns=['file', 'vehicle_encoded', 'is_background_encoded', 'Unnamed: 0', 'date_time_encoded'])\n",
    "y = df_vehicle_classification['vehicle_encoded']\n",
    "\n",
    "# Split data into train and test sets\n",
    "X_train, X_test, y_train, y_test = train_test_split(X, y, test_size=0.2, random_state=42, stratify=y)\n",
    "\n",
    "# Calculate class weights\n",
    "class_counts = np.bincount(y_train)\n",
    "total_samples = len(y_train)\n",
    "class_weights = {i: total_samples / (len(class_counts) * count) for i, count in enumerate(class_counts)}\n",
    "\n",
    "# Map weights to each sample in the training set\n",
    "weights = y_train.map(class_weights)\n",
    "\n",
    "# Initialize and train the XGBoost classifier with class weights\n",
    "xgb_clf = XGBClassifier(eval_metric='mlogloss', random_state=42)\n",
    "xgb_clf.fit(X_train, y_train, sample_weight=weights)\n",
    "\n",
    "# Make predictions\n",
    "y_pred = xgb_clf.predict(X_test)\n",
    "\n",
    "# Evaluate the model\n",
    "print(\"Classification Report on test set:\")\n",
    "print(classification_report(y_test, y_pred))"
   ]
  },
  {
   "cell_type": "markdown",
   "metadata": {},
   "source": [
    "This was successful!\n",
    "We should continue to use XGBoost with Class Weights instead of SMOTE, because it achieves the best balance between precision, recall, and F1-scores across all classes and the performance for minority classes (Class 0 and Class 3) improves without sacrificing accuracy or majority-class performance."
   ]
  },
  {
   "cell_type": "code",
   "execution_count": 31,
   "metadata": {},
   "outputs": [
    {
     "name": "stdout",
     "output_type": "stream",
     "text": [
      "speed_kmh_encoded           0.488163\n",
      "mfcc_3                      0.055492\n",
      "band_2_dB                   0.045518\n",
      "octband_dB_mean             0.042451\n",
      "band_18_dB                  0.037202\n",
      "location_encoded            0.024930\n",
      "band_19_dB                  0.017806\n",
      "weather_encoded             0.014397\n",
      "mfcc_13                     0.012972\n",
      "band_4_dB                   0.011977\n",
      "peak_dB_3                   0.011482\n",
      "mfcc_5                      0.011169\n",
      "band_3_dB                   0.010419\n",
      "mfcc_2                      0.010234\n",
      "peak_freq_1                 0.008935\n",
      "band_5_dB                   0.008933\n",
      "band_23_dB                  0.008867\n",
      "mfcc_8                      0.008673\n",
      "band_20_dB                  0.008282\n",
      "daytime_encoded             0.008082\n",
      "band_27_dB                  0.008071\n",
      "mfcc_9                      0.007810\n",
      "peak_freq_2                 0.007671\n",
      "source_direction_encoded    0.007190\n",
      "band_12_dB                  0.007000\n",
      "band_11_dB                  0.006763\n",
      "band_28_dB                  0.005595\n",
      "band_22_dB                  0.005399\n",
      "band_15_dB                  0.005335\n",
      "band_21_dB                  0.005273\n",
      "band_1_dB                   0.005071\n",
      "band_16_dB                  0.004817\n",
      "mfcc_1                      0.004730\n",
      "band_13_dB                  0.004523\n",
      "mfcc_11                     0.004462\n",
      "band_6_dB                   0.004256\n",
      "mfcc_12                     0.004180\n",
      "mfcc_4                      0.004036\n",
      "band_17_dB                  0.004027\n",
      "mfcc_7                      0.003897\n",
      "mfcc_6                      0.003843\n",
      "band_9_dB                   0.003461\n",
      "mfcc_10                     0.003252\n",
      "channel_encoded             0.003165\n",
      "band_7_dB                   0.003132\n",
      "peak_dB_2                   0.003110\n",
      "band_29_dB                  0.003044\n",
      "peak_dB_1                   0.002887\n",
      "band_26_dB                  0.002756\n",
      "peak_freq_3                 0.002722\n",
      "band_25_dB                  0.002641\n",
      "band_24_dB                  0.002474\n",
      "band_10_dB                  0.002314\n",
      "band_8_dB                   0.002308\n",
      "band_14_dB                  0.002296\n",
      "microphone_encoded          0.000503\n",
      "dtype: float32\n"
     ]
    }
   ],
   "source": [
    "# Extract feature importances from the trained XGBoost model\n",
    "feature_importances = pd.Series(xgb_clf.feature_importances_, index=X.columns)\n",
    "\n",
    "# Sort the feature importances in descending order\n",
    "sorted_importances = feature_importances.sort_values(ascending=False)\n",
    "\n",
    "# Print the sorted feature importances\n",
    "print(sorted_importances)"
   ]
  },
  {
   "cell_type": "code",
   "execution_count": 32,
   "metadata": {},
   "outputs": [
    {
     "name": "stdout",
     "output_type": "stream",
     "text": [
      "Classification Report on test set:\n",
      "              precision    recall  f1-score   support\n",
      "\n",
      "           0       0.83      0.90      0.86        21\n",
      "           1       0.94      0.97      0.96      1561\n",
      "           2       1.00      0.99      0.99        86\n",
      "           3       0.70      0.54      0.61       205\n",
      "\n",
      "    accuracy                           0.92      1873\n",
      "   macro avg       0.87      0.85      0.85      1873\n",
      "weighted avg       0.92      0.92      0.92      1873\n",
      "\n"
     ]
    }
   ],
   "source": [
    "from xgboost import XGBClassifier\n",
    "from sklearn.model_selection import train_test_split\n",
    "from sklearn.metrics import classification_report\n",
    "import numpy as np\n",
    "\n",
    "# Extract features and target\n",
    "X = df_vehicle_classification.drop(columns=['file', 'vehicle_encoded', 'is_background_encoded', 'Unnamed: 0'])\n",
    "y = df_vehicle_classification['vehicle_encoded']\n",
    "\n",
    "# Split data into train and test sets\n",
    "X_train, X_test, y_train, y_test = train_test_split(X, y, test_size=0.2, random_state=42, stratify=y)\n",
    "\n",
    "# Calculate class weights\n",
    "class_counts = np.bincount(y_train)\n",
    "total_samples = len(y_train)\n",
    "class_weights = {i: total_samples / (len(class_counts) * count) for i, count in enumerate(class_counts)}\n",
    "\n",
    "# Map weights to each sample in the training set\n",
    "weights = y_train.map(class_weights)\n",
    "\n",
    "# Initialize and train the XGBoost classifier with class weights\n",
    "xgb_clf = XGBClassifier(eval_metric='mlogloss', random_state=42)\n",
    "xgb_clf.fit(X_train, y_train, sample_weight=weights)\n",
    "\n",
    "# Make predictions\n",
    "y_pred = xgb_clf.predict(X_test)\n",
    "\n",
    "# Evaluate the model\n",
    "print(\"Classification Report on test set:\")\n",
    "print(classification_report(y_test, y_pred))"
   ]
  },
  {
   "cell_type": "markdown",
   "metadata": {},
   "source": [
    "with cross-validation:"
   ]
  },
  {
   "cell_type": "code",
   "execution_count": 36,
   "metadata": {},
   "outputs": [
    {
     "name": "stderr",
     "output_type": "stream",
     "text": [
      "/Users/jakob/miniconda3/envs/seminar2024/lib/python3.11/site-packages/sklearn/model_selection/_validation.py:73: FutureWarning: `fit_params` is deprecated and will be removed in version 1.6. Pass parameters via `params` instead.\n",
      "  warnings.warn(\n"
     ]
    },
    {
     "name": "stdout",
     "output_type": "stream",
     "text": [
      "Cross-Validation F1 Macro Scores: [0.82079032 0.8465162  0.83642624 0.82251722 0.80458688]\n",
      "Mean CV F1 Macro Score: 0.8261673705810143\n",
      "\n",
      "Classification Report on Test Set:\n",
      "              precision    recall  f1-score   support\n",
      "\n",
      "           0       0.86      0.90      0.88        21\n",
      "           1       0.94      0.96      0.95      1561\n",
      "           2       1.00      0.99      0.99        86\n",
      "           3       0.66      0.53      0.59       205\n",
      "\n",
      "    accuracy                           0.92      1873\n",
      "   macro avg       0.87      0.85      0.86      1873\n",
      "weighted avg       0.91      0.92      0.91      1873\n",
      "\n"
     ]
    }
   ],
   "source": [
    "from xgboost import XGBClassifier\n",
    "from sklearn.model_selection import cross_val_score, StratifiedKFold\n",
    "from sklearn.metrics import classification_report\n",
    "import numpy as np\n",
    "\n",
    "# Extract features and target\n",
    "X = df_vehicle_classification.drop(columns=['file', 'vehicle_encoded', 'is_background_encoded', 'Unnamed: 0'])\n",
    "y = df_vehicle_classification['vehicle_encoded']\n",
    "\n",
    "# Calculate class weights\n",
    "class_counts = np.bincount(y)\n",
    "total_samples = len(y)\n",
    "class_weights = {i: total_samples / (len(class_counts) * count) for i, count in enumerate(class_counts)}\n",
    "\n",
    "# Initialize the XGBoost classifier\n",
    "xgb_clf = XGBClassifier(eval_metric='mlogloss', random_state=42)\n",
    "\n",
    "# StratifiedKFold for consistent splits across classes\n",
    "cv = StratifiedKFold(n_splits=5, shuffle=True, random_state=42)\n",
    "\n",
    "# Perform cross-validation\n",
    "scores = cross_val_score(\n",
    "    xgb_clf,\n",
    "    X,\n",
    "    y,\n",
    "    cv=cv,\n",
    "    scoring='f1_macro',\n",
    "    fit_params={'sample_weight': y.map(class_weights)}  # Apply sample weights\n",
    ")\n",
    "\n",
    "# Print cross-validation results\n",
    "print(\"Cross-Validation F1 Macro Scores:\", scores)\n",
    "print(\"Mean CV F1 Macro Score:\", scores.mean())\n",
    "\n",
    "# Final model training and testing on a single train-test split for reporting\n",
    "X_train, X_test, y_train, y_test = train_test_split(X, y, test_size=0.2, random_state=42, stratify=y)\n",
    "weights_train = y_train.map(class_weights)\n",
    "\n",
    "# Train the model on the training set\n",
    "xgb_clf.fit(X_train, y_train, sample_weight=weights_train)\n",
    "\n",
    "# Make predictions\n",
    "y_pred = xgb_clf.predict(X_test)\n",
    "\n",
    "# Evaluate the model\n",
    "print(\"\\nClassification Report on Test Set:\")\n",
    "print(classification_report(y_test, y_pred))"
   ]
  },
  {
   "cell_type": "markdown",
   "metadata": {},
   "source": [
    "Key Takeaways:\n",
    "1. Stability Across Folds: \n",
    "    - The small variance in cross-validation F1 scores shows the model is robust and not overly sensitive to specific splits.\n",
    "2.\tMinority Class Performance: \n",
    "    - Significant improvement for Class 0, with F1: 0.88.\n",
    "    - Class 3 remains the most challenging, with limited recall (0.53) due to imbalance and overlap with other classes.\n",
    "3.\tStrong Overall Balance:\n",
    "    - Macro F1 scores during CV and testing show the model performs well across all classes without overly favoring the majority class.\n",
    "\n",
    "The model shows no signs of overfitting due to date_time_encoded or speed_kmh_encoded, and their inclusion enhances performance for minority classes. The unusual distribution in specific time periods and specific speed_kmh levels does not unduly bias the model.\n",
    "\n",
    "In the end the best performance for XGBoost Classification is being reached by \n",
    "- including all meta data features (except \"file\", \"is_background\", \"Unnamed: 0\" and \"vehicle\" obviously) as well as all audio features\n",
    "- using class weights instead of SMOTE\n",
    "- using cross-validation"
   ]
  },
  {
   "cell_type": "markdown",
   "metadata": {},
   "source": [
    "### How do the results compare to only including sound features (MFCCs, Octavebands) for the classification?"
   ]
  },
  {
   "cell_type": "code",
   "execution_count": 29,
   "metadata": {},
   "outputs": [
    {
     "name": "stdout",
     "output_type": "stream",
     "text": [
      "Classification Report on test set:\n",
      "              precision    recall  f1-score   support\n",
      "\n",
      "           0       0.85      0.81      0.83        21\n",
      "           1       0.93      0.96      0.94      1561\n",
      "           2       0.92      0.95      0.94        86\n",
      "           3       0.62      0.45      0.52       205\n",
      "\n",
      "    accuracy                           0.90      1873\n",
      "   macro avg       0.83      0.79      0.81      1873\n",
      "weighted avg       0.89      0.90      0.90      1873\n",
      "\n"
     ]
    }
   ],
   "source": [
    "from xgboost import XGBClassifier\n",
    "from sklearn.model_selection import train_test_split\n",
    "from sklearn.metrics import classification_report\n",
    "import numpy as np\n",
    "\n",
    "# Extract features and target\n",
    "X = df_vehicle_classification.drop(columns=df_vehicle_classification.loc[:, :'channel_encoded'].columns) # only keep sound features\n",
    "y = df_vehicle_classification['vehicle_encoded']\n",
    "\n",
    "# Split data into train and test sets\n",
    "X_train, X_test, y_train, y_test = train_test_split(X, y, test_size=0.2, random_state=42, stratify=y)\n",
    "\n",
    "# Calculate class weights\n",
    "class_counts = np.bincount(y_train)\n",
    "total_samples = len(y_train)\n",
    "class_weights = {i: total_samples / (len(class_counts) * count) for i, count in enumerate(class_counts)}\n",
    "\n",
    "# Map weights to each sample in the training set\n",
    "weights = y_train.map(class_weights)\n",
    "\n",
    "# Initialize and train the XGBoost classifier with class weights\n",
    "xgb_clf = XGBClassifier(eval_metric='mlogloss', random_state=42)\n",
    "xgb_clf.fit(X_train, y_train, sample_weight=weights)\n",
    "\n",
    "# Make predictions\n",
    "y_pred = xgb_clf.predict(X_test)\n",
    "\n",
    "# Evaluate the model\n",
    "print(\"Classification Report on test set:\")\n",
    "print(classification_report(y_test, y_pred))"
   ]
  },
  {
   "cell_type": "markdown",
   "metadata": {},
   "source": [
    "Using only MFCC and octave bands results in slightly reduced performance overall, particularly for Class 3 (lower recall and F1).\n",
    "- Macro-average F1 drops to 0.81, highlighting reduced balance across classes.\n",
    "- MFCC and octave bands alone are insufficient compared to the richer feature set but perform reasonably well."
   ]
  }
 ],
 "metadata": {
  "kernelspec": {
   "display_name": "seminar2024",
   "language": "python",
   "name": "python3"
  },
  "language_info": {
   "codemirror_mode": {
    "name": "ipython",
    "version": 3
   },
   "file_extension": ".py",
   "mimetype": "text/x-python",
   "name": "python",
   "nbconvert_exporter": "python",
   "pygments_lexer": "ipython3",
   "version": "3.11.8"
  }
 },
 "nbformat": 4,
 "nbformat_minor": 2
}
