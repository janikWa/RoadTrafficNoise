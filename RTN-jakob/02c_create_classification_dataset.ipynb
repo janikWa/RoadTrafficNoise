{
 "cells": [
  {
   "cell_type": "markdown",
   "metadata": {},
   "source": [
    "### Merge Metadata with results of MFCC and Octave Band Analysis into one dataset: df_total_features.csv"
   ]
  },
  {
   "cell_type": "code",
   "execution_count": 1,
   "metadata": {},
   "outputs": [],
   "source": [
    "import pandas as pd\n",
    "\n",
    "# Load the existing dataset from Excel\n",
    "df_dataset = pd.read_excel(\"df_dataset.xlsx\")\n",
    "\n",
    "# Load the new dataset from CSV\n",
    "df_new = pd.read_csv(\"spl_octaveband_results_30.csv\")\n",
    "\n",
    "# Load mfcc_features_scipy.csv\n",
    "df_mfcc = pd.read_csv(\"mfcc_features_scipy.csv\")\n",
    "\n",
    "# Merge the datasets on the \"file\" column\n",
    "df_merged1 = pd.merge(df_dataset, df_mfcc, on=\"file\")\n",
    "\n",
    "# Merge the datasets on the \"file\" column\n",
    "df_merged2 = pd.merge(df_merged1, df_new, on=\"file\")\n",
    "\n",
    "# Save the merged dataset to a new CSV file\n",
    "df_merged2.to_csv(\"df_total.csv\", index=False)"
   ]
  },
  {
   "cell_type": "markdown",
   "metadata": {},
   "source": [
    "### Function to convert (selected) datatypes as categorical"
   ]
  },
  {
   "cell_type": "code",
   "execution_count": 9,
   "metadata": {},
   "outputs": [],
   "source": [
    "import pandas as pd\n",
    "import numpy as np\n",
    "\n",
    "def preprocess_dataset(df):\n",
    "    \"\"\"\n",
    "    Preprocesses the dataset:\n",
    "    - Handles missing values and converts 'NaN' and 'UNK' to category \"nan\".\n",
    "    - Converts `date_time` to datetime type.\n",
    "    - Converts specified columns to categorical type.\n",
    "\n",
    "    Parameters:\n",
    "        df (pd.DataFrame): The input dataset.\n",
    "\n",
    "    Returns:\n",
    "        pd.DataFrame: The preprocessed dataset.\n",
    "    \"\"\"\n",
    "    # Handle missing values for categorical columns\n",
    "    categorical_columns_with_missing = ['speed_kmh', 'daytime', 'weather', 'vehicle', 'source_direction']\n",
    "    for col in categorical_columns_with_missing:\n",
    "        # Replace \"UNK\" and NaN with \"nan\"\n",
    "        df[col] = df[col].replace('UNK', 'nan').fillna('nan').astype(str).astype('category')\n",
    "\n",
    "    # Convert `microphone`, `channel`, and `location` to category directly\n",
    "    categorical_columns = ['microphone', 'channel', 'location']\n",
    "    for col in categorical_columns:\n",
    "        df[col] = df[col].astype('category')\n",
    "\n",
    "    # Convert `date_time` to datetime\n",
    "    df['date_time'] = pd.to_datetime(df['date_time'], errors='coerce')\n",
    "\n",
    "    return df\n",
    "\n",
    "# Example usage\n",
    "# df_dataset = pd.read_csv('df_total_features.csv')\n",
    "# df_preprocessed = preprocess_dataset(df_dataset)\n",
    "# print(df_preprocessed.info())"
   ]
  },
  {
   "cell_type": "markdown",
   "metadata": {},
   "source": [
    "### Apply function"
   ]
  },
  {
   "cell_type": "code",
   "execution_count": 10,
   "metadata": {},
   "outputs": [
    {
     "name": "stderr",
     "output_type": "stream",
     "text": [
      "/var/folders/vh/1t1ywg4n4fq7xwpclrv4jdyc0000gn/T/ipykernel_75825/1374820840.py:1: DtypeWarning: Columns (5) have mixed types. Specify dtype option on import or set low_memory=False.\n",
      "  df_dataset = pd.read_csv('df_total.csv')\n",
      "/var/folders/vh/1t1ywg4n4fq7xwpclrv4jdyc0000gn/T/ipykernel_75825/3037021978.py:29: UserWarning: Could not infer format, so each element will be parsed individually, falling back to `dateutil`. To ensure parsing is consistent and as-expected, please specify a format.\n",
      "  df['date_time'] = pd.to_datetime(df['date_time'], errors='coerce')\n",
      "/var/folders/vh/1t1ywg4n4fq7xwpclrv4jdyc0000gn/T/ipykernel_75825/3037021978.py:29: FutureWarning: In a future version of pandas, parsing datetimes with mixed time zones will raise an error unless `utc=True`. Please specify `utc=True` to opt in to the new behaviour and silence this warning. To create a `Series` with mixed offsets and `object` dtype, please use `apply` and `datetime.datetime.strptime`\n",
      "  df['date_time'] = pd.to_datetime(df['date_time'], errors='coerce')\n"
     ]
    },
    {
     "name": "stdout",
     "output_type": "stream",
     "text": [
      "<class 'pandas.core.frame.DataFrame'>\n",
      "RangeIndex: 17506 entries, 0 to 17505\n",
      "Data columns (total 61 columns):\n",
      " #   Column            Non-Null Count  Dtype   \n",
      "---  ------            --------------  -----   \n",
      " 0   Unnamed: 0        17506 non-null  int64   \n",
      " 1   file              17506 non-null  object  \n",
      " 2   is_background     17506 non-null  bool    \n",
      " 3   date_time         4424 non-null   object  \n",
      " 4   location          17506 non-null  category\n",
      " 5   speed_kmh         17506 non-null  category\n",
      " 6   sample_pos        17506 non-null  int64   \n",
      " 7   daytime           17506 non-null  category\n",
      " 8   weather           17506 non-null  category\n",
      " 9   vehicle           17506 non-null  category\n",
      " 10  source_direction  17506 non-null  category\n",
      " 11  microphone        17506 non-null  category\n",
      " 12  channel           17506 non-null  category\n",
      " 13  mfcc_1            17506 non-null  float64 \n",
      " 14  mfcc_2            17506 non-null  float64 \n",
      " 15  mfcc_3            17506 non-null  float64 \n",
      " 16  mfcc_4            17506 non-null  float64 \n",
      " 17  mfcc_5            17506 non-null  float64 \n",
      " 18  mfcc_6            17506 non-null  float64 \n",
      " 19  mfcc_7            17506 non-null  float64 \n",
      " 20  mfcc_8            17506 non-null  float64 \n",
      " 21  mfcc_9            17506 non-null  float64 \n",
      " 22  mfcc_10           17506 non-null  float64 \n",
      " 23  mfcc_11           17506 non-null  float64 \n",
      " 24  mfcc_12           17506 non-null  float64 \n",
      " 25  mfcc_13           17506 non-null  float64 \n",
      " 26  band_1_dB         17506 non-null  float64 \n",
      " 27  band_2_dB         17506 non-null  float64 \n",
      " 28  band_3_dB         17506 non-null  float64 \n",
      " 29  band_4_dB         17506 non-null  float64 \n",
      " 30  band_5_dB         17506 non-null  float64 \n",
      " 31  band_6_dB         17506 non-null  float64 \n",
      " 32  band_7_dB         17506 non-null  float64 \n",
      " 33  band_8_dB         17506 non-null  float64 \n",
      " 34  band_9_dB         17506 non-null  float64 \n",
      " 35  band_10_dB        17506 non-null  float64 \n",
      " 36  band_11_dB        17506 non-null  float64 \n",
      " 37  band_12_dB        17506 non-null  float64 \n",
      " 38  band_13_dB        17506 non-null  float64 \n",
      " 39  band_14_dB        17506 non-null  float64 \n",
      " 40  band_15_dB        17506 non-null  float64 \n",
      " 41  band_16_dB        17506 non-null  float64 \n",
      " 42  band_17_dB        17506 non-null  float64 \n",
      " 43  band_18_dB        17506 non-null  float64 \n",
      " 44  band_19_dB        17506 non-null  float64 \n",
      " 45  band_20_dB        17506 non-null  float64 \n",
      " 46  band_21_dB        17506 non-null  float64 \n",
      " 47  band_22_dB        17506 non-null  float64 \n",
      " 48  band_23_dB        17506 non-null  float64 \n",
      " 49  band_24_dB        17506 non-null  float64 \n",
      " 50  band_25_dB        17506 non-null  float64 \n",
      " 51  band_26_dB        17506 non-null  float64 \n",
      " 52  band_27_dB        17506 non-null  float64 \n",
      " 53  band_28_dB        17506 non-null  float64 \n",
      " 54  band_29_dB        17506 non-null  float64 \n",
      " 55  peak_dB_1         17506 non-null  float64 \n",
      " 56  peak_freq_1       17506 non-null  float64 \n",
      " 57  peak_dB_2         17506 non-null  float64 \n",
      " 58  peak_freq_2       17506 non-null  float64 \n",
      " 59  peak_dB_3         17506 non-null  float64 \n",
      " 60  peak_freq_3       17506 non-null  float64 \n",
      "dtypes: bool(1), category(8), float64(48), int64(2), object(2)\n",
      "memory usage: 7.1+ MB\n",
      "None\n"
     ]
    }
   ],
   "source": [
    "df_dataset = pd.read_csv('df_total.csv')\n",
    "df_preprocessed = preprocess_dataset(df_dataset)\n",
    "print(df_preprocessed.info())\n",
    "df_preprocessed.to_csv(\"df_total_cat.csv\", index=False)"
   ]
  }
 ],
 "metadata": {
  "kernelspec": {
   "display_name": "seminar2024",
   "language": "python",
   "name": "python3"
  },
  "language_info": {
   "codemirror_mode": {
    "name": "ipython",
    "version": 3
   },
   "file_extension": ".py",
   "mimetype": "text/x-python",
   "name": "python",
   "nbconvert_exporter": "python",
   "pygments_lexer": "ipython3",
   "version": "3.11.8"
  }
 },
 "nbformat": 4,
 "nbformat_minor": 2
}
