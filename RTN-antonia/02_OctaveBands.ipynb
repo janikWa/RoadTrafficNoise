{
 "cells": [
  {
   "cell_type": "markdown",
   "metadata": {},
   "source": [
    "# Octave Band Analysis from XLSX"
   ]
  },
  {
   "cell_type": "markdown",
   "metadata": {},
   "source": [
    "### Octave Filter Function "
   ]
  },
  {
   "cell_type": "code",
   "execution_count": 32,
   "metadata": {},
   "outputs": [
    {
     "name": "stdout",
     "output_type": "stream",
     "text": [
      "Warnung: Frequenzen für Band 5656.8542494923795 Hz - 11313.70849898476 Hz sind außerhalb des gültigen Bereichs.\n",
      "Warnung: Frequenzen für Band 11313.708498984759 Hz - 22627.41699796952 Hz sind außerhalb des gültigen Bereichs.\n",
      "[-282.73724797 -246.73643948 -210.85941317 -175.23296593 -140.12011071\n",
      " -106.08851907  -74.49561031  -50.12823584]\n"
     ]
    }
   ],
   "source": [
    "import numpy as np\n",
    "from scipy import signal\n",
    "##import matplotlib.pyplot as plt\n",
    "from scipy.io import wavfile\n",
    "from scipy.signal import butter, sosfilt, filtfilt, resample\n",
    "\n",
    "def ovtavefilter (filepath, target_sample_rate=22000) :\n",
    "    \"\"\"\n",
    "    Filter a .wav signal with octave or fractional octave filter bank. \n",
    "    This function uses a Butterworth filter with default order of 6 and Second-Order Sections\n",
    "    coefficients. To obtain the correct coefficients, a subsampling is\n",
    "    applied to the signal in each filtered band.\n",
    "\n",
    "    :param filepath: filepath to .wav signal\n",
    "    :param target_sample_rate: Downsampling rate of 22 kHz\n",
    "    :param fraction: Bandwidth 'b'. Examples: 1/3-octave b=3, 1-octave b=1,\n",
    "    2/3-octave b = 3/2. [Optional] Default: 1.\n",
    "\n",
    "    RETURN: Sound Pressure Level of each band in array variable\n",
    "    \n",
    "    \"\"\"\n",
    "    # load .wav file\n",
    "    sample_rate, data = wavfile.read(filepath)\n",
    "\n",
    "    # Umwandeln in Mono, falls Stereo vorhanden\n",
    "    if len(data.shape) == 2:\n",
    "        x = np.mean(data, axis=1)\n",
    "\n",
    "    # Downsampling, falls erforderlich\n",
    "    if sample_rate != target_sample_rate:\n",
    "        downsample_factor = np.round(sample_rate / target_sample_rate)\n",
    "        data = data[::int(downsample_factor)]\n",
    "        sample_rate = target_sample_rate\n",
    "\n",
    "    # Normalisierung\n",
    "    data_mean = np.mean(data)\n",
    "    data_std = np.std(data)\n",
    "    if data_std > 0:\n",
    "        data = (data - data_mean) / data_std\n",
    "\n",
    "    # define frequency borders\n",
    "    f_centers = [31.25, 62.5, 125, 250, 500, 1000, 2000, 4000, 8000, 16000] # Middle Border Frequencies\n",
    "    f_lower = [f / np.sqrt(2) for f in f_centers] # Downside Border Frequencies\n",
    "    f_upper = [f * np.sqrt(2) for f in f_centers] # Upside Border Frequencies\n",
    "\n",
    "    # define output variable\n",
    "    db_values = []  \n",
    "    \n",
    "    # Berechnung der Filter und Anwendung\n",
    "    for low, high in zip(f_lower, f_upper):\n",
    "        # Berechnung des Nyquist\n",
    "        nyquist = sample_rate / 2\n",
    "\n",
    "        # Berechnung der Normalisierten Frequenzen\n",
    "        low_norm = low / nyquist\n",
    "        high_norm = high / nyquist\n",
    "\n",
    "        # Überprüfen, ob die Frequenzen im Bereich [0, 1] liegen\n",
    "        if low_norm <= 0 or high_norm >= 1:\n",
    "            print(f\"Warnung: Frequenzen für Band {low} Hz - {high} Hz sind außerhalb des gültigen Bereichs.\")\n",
    "            continue  # Überspringen, wenn Frequenzen ungültig sind\n",
    "\n",
    "        # Butterworth-Filter der Ordnung 6 als SOS-Filter designen\n",
    "        sos = butter(6, [low_norm, high_norm], btype='band', output='sos')\n",
    "\n",
    "        # Anwenden des Filters\n",
    "        filtered_signal = sosfilt(sos, data)\n",
    "\n",
    "        # Berechnung der dB-Werte\n",
    "        rms = np.sqrt(np.mean(filtered_signal**2))\n",
    "        db = 20 * np.log10(rms) if rms > 0 else -np.inf\n",
    "        db_values.append(db)\n",
    "\n",
    "    return np.array(db_values)\n",
    "\n",
    "\n",
    "path = \"/Users/Anton/Documents/KIT/Seminare/RTN/Audio rtn-samples/IDMT_Traffic/audio/2019-10-22-08-40_Fraunhofer-IDMT_30Kmh_41346_M_D_CR_SE_CH34.wav\"\n",
    "#path = \"/Users/Anton/Documents/KIT/Seminare/RTN/Audio rtn-samples/IDMT_Traffic/audio/2019-10-22-08-40_Fraunhofer-IDMT_30Kmh_63533_M_D_CL_ME_CH12.wav\"\n",
    "\n",
    "octave_band_values_db = ovtavefilter(path)\n",
    "print(octave_band_values_db)"
   ]
  },
  {
   "cell_type": "markdown",
   "metadata": {},
   "source": [
    "### filter response visualisation"
   ]
  },
  {
   "cell_type": "markdown",
   "metadata": {},
   "source": [
    "### Octave Band Analysis Function"
   ]
  },
  {
   "cell_type": "code",
   "execution_count": null,
   "metadata": {},
   "outputs": [],
   "source": [
    "def process_audio_directory_OctaveBands(input_directory, output_file):\n",
    "    \"\"\"\n",
    "    Calculates Octave Filter dB values for all .wav files in a directory and safes them as indivduals columns in an Excel-File. \n",
    "    Args:\n",
    "        input_directory (str): location of .wav files\n",
    "        output_file (str): output location / file\n",
    "        \n",
    "    \"\"\""
   ]
  }
 ],
 "metadata": {
  "kernelspec": {
   "display_name": "Python 3",
   "language": "python",
   "name": "python3"
  },
  "language_info": {
   "codemirror_mode": {
    "name": "ipython",
    "version": 3
   },
   "file_extension": ".py",
   "mimetype": "text/x-python",
   "name": "python",
   "nbconvert_exporter": "python",
   "pygments_lexer": "ipython3",
   "version": "3.11.10"
  }
 },
 "nbformat": 4,
 "nbformat_minor": 2
}
